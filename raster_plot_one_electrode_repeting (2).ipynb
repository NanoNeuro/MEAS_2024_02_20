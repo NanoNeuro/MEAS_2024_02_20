{
  "cells": [
    {
      "cell_type": "code",
      "execution_count": null,
      "id": "902b1f0d-c459-435c-9610-e73e7d37c78c",
      "metadata": {
        "id": "902b1f0d-c459-435c-9610-e73e7d37c78c"
      },
      "outputs": [],
      "source": [
        "import matplotlib.pyplot as plt\n",
        "import numpy as np\n",
        "import pandas as pd"
      ]
    },
    {
      "cell_type": "code",
      "execution_count": null,
      "id": "5650eeda-2893-42af-b75e-5743c2dbbdbb",
      "metadata": {
        "colab": {
          "base_uri": "https://localhost:8080/",
          "height": 385
        },
        "id": "5650eeda-2893-42af-b75e-5743c2dbbdbb",
        "outputId": "b85b2a1e-3d3a-4771-e73f-40cc63c870c2"
      },
      "outputs": [],
      "source": [
        "file1=pd.read_excel('D19_postSIEMBRA_p1_B1 BPs 100mW(000)_spike_list.xlsx')\n",
        "#print(file1)\n",
        "#print(type(file1))"
      ]
    },
    {
      "cell_type": "code",
      "execution_count": null,
      "id": "aSoFNQ6JOB93",
      "metadata": {
        "id": "aSoFNQ6JOB93"
      },
      "outputs": [],
      "source": [
        "# LISTA DE VARIABLES\n",
        "lista_pocillos = []\n",
        "for letra in ['A', 'B', 'C', 'D']:\n",
        "  for numero in range(1, 7):\n",
        "    lista_pocillos.append(f\"{letra}{numero}\")"
      ]
    },
    {
      "cell_type": "code",
      "execution_count": null,
      "id": "0ced6946-6f42-4edc-be9e-1369bde89a1b",
      "metadata": {
        "colab": {
          "base_uri": "https://localhost:8080/",
          "height": 242
        },
        "id": "0ced6946-6f42-4edc-be9e-1369bde89a1b",
        "outputId": "0929664a-3e20-40ff-86a4-cc85977013a6"
      },
      "outputs": [],
      "source": [
        "file1_copy=file1.copy()\n",
        "\n",
        "for pocillo in lista_pocillos:\n",
        "  lista_electrodos = file1['Electrode']\n",
        "  lista_electrodos_nuevos = [elec.replace(pocillo, '') for elec in lista_electrodos]\n",
        "  file1['Electrode'] = lista_electrodos_nuevos\n"
      ]
    },
    {
      "cell_type": "code",
      "execution_count": null,
      "id": "DWhXXtC5YOcH",
      "metadata": {
        "colab": {
          "base_uri": "https://localhost:8080/"
        },
        "id": "DWhXXtC5YOcH",
        "outputId": "cd515bce-7080-4455-9731-96920ceadfed"
      },
      "outputs": [],
      "source": [
        "(file_f2['Time (s)'] > timepoint) & (file_f2['Time (s)'] < (timepoint + window))"
      ]
    },
    {
      "cell_type": "code",
      "execution_count": null,
      "id": "Z13kQ4cJfQ1Y",
      "metadata": {
        "id": "Z13kQ4cJfQ1Y"
      },
      "outputs": [],
      "source": [
        "from matplotlib.transforms import Bbox\n",
        "\n",
        "def full_extent(ax, pad=0.0):\n",
        "    \"\"\"Get the full extent of an axes, including axes labels, tick labels, and\n",
        "    titles.\"\"\"\n",
        "    # For text objects, we need to draw the figure first, otherwise the extents\n",
        "    # are undefined.\n",
        "    ax.figure.canvas.draw()\n",
        "    items = ax.get_xticklabels() + ax.get_yticklabels()\n",
        "#    items += [ax, ax.title, ax.xaxis.label, ax.yaxis.label]\n",
        "    items += [ax, ax.title]\n",
        "    bbox = Bbox.union([item.get_window_extent() for item in items])\n",
        "\n",
        "    return bbox.expanded(1.0 + pad, 1.0 + pad)\n",
        "\n",
        "\n",
        "def plot_raster(df, electrode, ax, fig):\n",
        "\n",
        "  for repeticion in range(1, len(timepoints_start) + 1):\n",
        "    df_plot = df[df['Repetition'] == repeticion]\n",
        "    ax.scatter(df_plot['Time corrected'], [repeticion]*len(df_plot), marker='|', s=130, c='0', linewidths=0.5)\n",
        "\n",
        "  ax.set_xlim(0, 15)\n",
        "  ax.set_xticks(range(0, 16))\n",
        "\n",
        "  ax.set_ylim(0, 12)\n",
        "\n",
        "  ax.set_xlabel('Time (s)')\n",
        "  ax.set_ylabel('Repetitions')\n",
        "  plt.rcParams.update({'font.size': 10})\n",
        "  ax.tick_params(axis='x', which='both', bottom=False, top=False)\n",
        "  ax.tick_params(axis='y', which='both', left=False, right=False)\n",
        "  ax.set_yticks(np.arange(1, 11, 1), np.arange(1, 11, 1))\n",
        "\n",
        "  #add the ON/OFF states\n",
        "  ax.plt([5, 10], [11.005, 11.005], 'r', lw=1, linestyle='--')\n",
        "  ax.plt([0, 5], [11.005, 11.005], 'b', lw=1, linestyle='--')\n",
        "  ax.plt([10, 15], [11.005, 11.005], 'b', lw=1, linestyle='--')\n",
        "\n",
        "  ax.text(7.1, 11.2,'ON', color='red')\n",
        "  ax.text(2, 11.2,'OFF', color='blue')\n",
        "  ax.text(12, 11.2,'OFF', color='blue')\n",
        "\n",
        "\n",
        "\n",
        "  extent = full_extent(ax).transformed(fig.dpi_scale_trans.inverted())\n",
        "  fig.savefig(f'Electrode {electrode}.png', bbox_inches=extent)\n",
        "\n",
        "\n",
        "def plot_bar(df, electrode, ax, fig, max_height=100):\n",
        "  #plot for the average spike number of the OFF/ON/FF 5 sec sequence\n",
        "\n",
        "  #make 3 lists with the off/on states\n",
        "  list_off1, list_on, list_off2 = [],[],[]\n",
        "\n",
        "  #create a data frame with the data\n",
        "  for repeticion in range(1, len(timepoints_start) + 1):\n",
        "      df_plot = df[df['Repetition'] == repeticion]\n",
        "      list_off1.append(len(df_plot[df_plot['Time corrected'] < 5]))\n",
        "      list_on.append(len(df_plot[(df_plot['Time corrected'] >= 5) & (df_plot['Time corrected'] < 10)]))\n",
        "      list_off2.append(len(df_plot[df_plot['Time corrected'] >= 10]))\n",
        "\n",
        "  #barplot\n",
        "  ax.bar(0, np.mean(list_off1), yerr=np.std(list_off1), color='blue', capsize=5)\n",
        "  ax.bar(1, np.mean(list_on), yerr=np.std(list_on), color='red', capsize=5)\n",
        "  ax.bar(2, np.mean(list_off2), yerr=np.std(list_off2), color='blue', capsize=5)\n",
        "  ax.set_xticks([0,1,2],['OFF', 'ON', 'OFF'])\n",
        "  ax.set_yticks(np.arange(0, max_height+10, 10))\n",
        "  ax.set_ylim(0,max_height)\n",
        "\n",
        "  #create a data frame with the number of spikes in each repetition\n",
        "  df_barplot = pd.DataFrame({'OFF 1': list_off1, 'ON': list_on, 'OFF 2': list_off2})\n",
        "\n",
        "  #calculate the mean and the st deviation of the\n",
        "  df_mean = df_barplot.mean()\n",
        "  df_std = df_barplot.std()\n",
        "\n",
        "  plot.ylabel('Number of spikes')\n",
        "  plot.tick_params(axis='x', which='both', bottom=False, top=False)\n",
        "\n",
        "  #save the barplot\n",
        "  extent = full_extent(ax).transformed(fig.dpi_scale_trans.inverted())\n",
        "  fig.savefig(f'Electrode {electrode}_barplot.png', bbox_inches=extent)\n",
        "\n",
        "  #attach in the last two rows the values of the mean at st deviation\n",
        "  df_barplot = df_barplot.append(df_mean, ignore_index=True)\n",
        "  df_barplot = df_barplot.append(df_std, ignore_index=True)\n",
        "\n",
        "  #chage the name to the rows of mean and st deviation\n",
        "  index_df = df_barplot.index.tolist()\n",
        "  index_df[-2:] = ['mean', 'std']\n",
        "  df_barplot.index = index_df\n",
        "\n",
        "  #save the dataframe to a csv\n",
        "  df_barplot.to_csv(f'Electrode {electrode}.csv')\n",
        "  #df_barplot"
      ]
    },
    {
      "cell_type": "code",
      "execution_count": null,
      "id": "maJGUPvzR-GD",
      "metadata": {
        "colab": {
          "base_uri": "https://localhost:8080/",
          "height": 1000
        },
        "id": "maJGUPvzR-GD",
        "outputId": "c128b589-a4db-43d1-f5a3-bb14ccc9cf22"
      },
      "outputs": [],
      "source": [
        "df=file1_copy.copy()\n",
        "\n",
        "#make files for each electrode\n",
        "\n",
        "list_electrodes = ['11', '12', '13', '14',\n",
        "                   '21', '22', '23', '24',\n",
        "                   '31', '32', '33', '34',\n",
        "                   '41', '42', '43', '44']\n",
        "\n",
        "fig_raster, axs_raster = plot.subplots(4, 4, figsize=(4 * 6, 4 * 2.5))\n",
        "fig_barplot, axs_barplot = plot.subplots(4, 4, figsize=(4 * 6, 4 * 2.5))\n",
        "\n",
        "\n",
        "for idx_electrode, electrode in enumerate(list_electrodes):\n",
        "  file_f2= df[df['Electrode'] == electrode]\n",
        "  arr_reps = np.zeros(len(file_f2), dtype=int)\n",
        "  times_corrected = np.zeros(len(file_f2))\n",
        "  #print(file_f2)\n",
        "\n",
        "  timepoints_start = [5, 20, 35, 50, 65, 80, 95, 110, 125, 140]\n",
        "  window = 15\n",
        "\n",
        "  # we want 10 repetitions of the measurement of 5 sec off, 5 sec on, 5 sec off\n",
        "  #in the file we have 12 repetitions, so we are getting the info\n",
        "  #r from sec 5 to sec 155, because at the beginning we have 10 sec off, and we only want 5\n",
        "\n",
        "  #get the 10 data sets before making the scatter plot\n",
        "  for repeticion, timepoint in enumerate(timepoints_start, 1):\n",
        "    index_selection = (file_f2['Time (s)'] > timepoint) & (file_f2['Time (s)'] < (timepoint + window))\n",
        "    arr_reps[index_selection] = repeticion\n",
        "    times_corrected[index_selection] = file_f2.loc[index_selection, 'Time (s)'] - timepoint\n",
        "\n",
        "  file_f2['Repetition'] = arr_reps\n",
        "  file_f2['Time corrected'] = times_corrected\n",
        "\n",
        "\n",
        "\n",
        "  # '12' -> 2, 2\n",
        "  ax_y, ax_x = int(electrode[0]) - 1, 3 - (int(electrode[1]) - 1)\n",
        "  plot_raster(df=file_f2, electrode=electrode, ax=axs_raster[ax_x, ax_y], fig=fig_raster)\n",
        "  plot_bar(df=file_f2, electrode=electrode, ax=axs_barplot[ax_x, ax_y], fig=fig_barplot, max_height=80)"
      ]
    },
    {
      "cell_type": "code",
      "execution_count": null,
      "id": "896973a6-34b1-4d6d-aba6-e47987c1d0ad",
      "metadata": {
        "id": "896973a6-34b1-4d6d-aba6-e47987c1d0ad"
      },
      "outputs": [],
      "source": []
    }
  ],
  "metadata": {
    "colab": {
      "provenance": []
    },
    "kernelspec": {
      "display_name": "Python 3 (ipykernel)",
      "language": "python",
      "name": "python3"
    },
    "language_info": {
      "codemirror_mode": {
        "name": "ipython",
        "version": 3
      },
      "file_extension": ".py",
      "mimetype": "text/x-python",
      "name": "python",
      "nbconvert_exporter": "python",
      "pygments_lexer": "ipython3",
      "version": "3.11.4"
    }
  },
  "nbformat": 4,
  "nbformat_minor": 5
}
