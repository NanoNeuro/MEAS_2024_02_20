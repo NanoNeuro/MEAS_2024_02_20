{
 "cells": [
  {
   "cell_type": "code",
   "execution_count": 4,
   "metadata": {},
   "outputs": [],
   "source": [
    "import pandas as pd\n",
    "import numpy as np\n",
    "\n",
    "import datetime as dt\n",
    "import os\n",
    "\n",
    "import random\n",
    "import string\n",
    "\n",
    "import sys"
   ]
  },
  {
   "cell_type": "code",
   "execution_count": 5,
   "metadata": {},
   "outputs": [
    {
     "name": "stderr",
     "output_type": "stream",
     "text": [
      "/home/nanoneuro/Programs/miniconda3/envs/nanoneuro/lib/python3.10/site-packages/tqdm/auto.py:21: TqdmWarning: IProgress not found. Please update jupyter and ipywidgets. See https://ipywidgets.readthedocs.io/en/stable/user_install.html\n",
      "  from .autonotebook import tqdm as notebook_tqdm\n"
     ]
    }
   ],
   "source": [
    "module_path = os.path.abspath(os.path.join('..'))\n",
    "if module_path not in sys.path:\n",
    "    sys.path.append(module_path)\n",
    "\n",
    "from py_functions.MEAS_recordings import retrieve_peaks"
   ]
  },
  {
   "cell_type": "markdown",
   "metadata": {},
   "source": [
    "## Running cells"
   ]
  },
  {
   "cell_type": "code",
   "execution_count": 6,
   "metadata": {},
   "outputs": [],
   "source": [
    "from nb_vars import FOLDER_INPUT_BASE, FOLDER_OUTPUT_BASE"
   ]
  },
  {
   "cell_type": "code",
   "execution_count": 7,
   "metadata": {},
   "outputs": [],
   "source": [
    "# TODO: CAMBIAR LAS PROXIMAS CELDAS PARA QUE EL LIST_CONDITIONS SEA UNA TABLA Y SE LEA DE ALGUN LADO\n",
    "# TODO: INCLUIR UN ID DE EXPERIMENTO PARA LOS ARCHIVOS"
   ]
  },
  {
   "cell_type": "markdown",
   "metadata": {},
   "source": [
    "**RUN ONLY ONE CELL (100, 200 or 500)**"
   ]
  },
  {
   "cell_type": "code",
   "execution_count": null,
   "metadata": {},
   "outputs": [],
   "source": [
    "#20240220\n",
    "\n",
    "CONDITION_NAME = \"pulse-duration\"\n",
    "CONDITION = 100    #pulse duration 100msec\n",
    "\n",
    "folder_input = f'{FOLDER_INPUT_BASE}/{CONDITION_NAME}_{CONDITION}'\n",
    "folder_output = f'{FOLDER_OUTPUT_BASE}/{CONDITION_NAME}_{CONDITION}'\n",
    "\n",
    "os.makedirs(folder_output, exist_ok=True)\n",
    "\n",
    "list_conditions = [#('Condition', 'Treatment', 'Wells', 'Well_num', 'Replicate', 'Folder') \n",
    "                    ('BP',          'PRE',     ['C5', 'C6'],               [35, 36],           [1, 2],         'PRE'), \n",
    "                    ('BP',          'POST',    ['C5', 'C6'],               [35, 36],           [1, 2],         'POST'), \n",
    "                    ('LINK1',       'PRE',     ['D2'],                     [42],               [1],            'PRE'), \n",
    "                    ('LINK1',       'POST',    ['D2'],                     [42],               [1],            'POST'), \n",
    "                    ('LINK2',       'PRE',     ['D3', 'D4'],               [43, 44],           [1, 2],         'PRE'), \n",
    "                    ('LINK2',       'POST',    ['D3', 'D4'],               [43, 44],           [1, 2],         'POST'),\n",
    "                    ('LINK3',       'PRE',     ['D5', 'D6'],               [45, 46],           [1, 2],         'PRE'),\n",
    "                    ('LINK3',       'POST',    ['D5', 'D6'],               [45, 46],           [1, 2],         'POST'),\n",
    "                    ('BP+LINK1',    'PRE',     ['A1', 'A2', 'A3', 'A4'],   [11, 12, 13, 14],   [1, 2, 3, 4],   'PRE'), \n",
    "                    ('BP+LINK1',    'POST',    ['A1', 'A2', 'A3', 'A4'],   [11, 12, 13, 14],   [1, 2, 3, 4],   'POST'), \n",
    "                    ('BP+LINK2',    'PRE',     ['B2', 'B3', 'B4'],         [22, 23, 24],       [1, 2, 3],      'PRE'), \n",
    "                    ('BP+LINK2',    'POST',    ['B2', 'B3', 'B4'],         [22, 23, 24],       [1, 2, 3],      'POST'), \n",
    "                    ('BP+LINK3',    'PRE',     ['C2', 'C3', 'C4'],         [32, 33, 34],       [1, 2, 3],      'PRE'), \n",
    "                    ('BP+LINK3',    'POST',    ['C2', 'C3', 'C4'],         [32, 33, 34],       [1, 2, 3],      'POST'), \n",
    "                   ]"
   ]
  },
  {
   "cell_type": "code",
   "execution_count": null,
   "metadata": {},
   "outputs": [],
   "source": [
    "#20240422-23\n",
    "\n",
    "CONDITION_NAME = \"pulse-duration\"\n",
    "CONDITION = 200\n",
    "\n",
    "folder_input = f'{FOLDER_INPUT_BASE}/{CONDITION_NAME}_{CONDITION}'\n",
    "folder_output = f'{FOLDER_OUTPUT_BASE}/{CONDITION_NAME}_{CONDITION}'\n",
    "\n",
    "os.makedirs(folder_output, exist_ok=True)\n",
    "\n",
    "list_conditions = [#('Condition', 'Treatment', 'Wells', 'Well_num', 'Replicate', 'Folder') \n",
    "                    ('CTRL',        'PRE',     ['A1', 'A2', 'A3'],     [11, 12, 13], [1, 2, 3], 'PRE'), \n",
    "                    ('CTRL',        'POST',    ['A1', 'A2', 'A3'],     [11, 12, 13], [1, 2, 3], 'POST'), \n",
    "                    ('BP',          'PRE',     ['A4', 'A5', 'A6'],     [14, 15, 16], [1, 2, 3], 'PRE'), \n",
    "                    ('BP',          'POST',    ['A4', 'A5', 'A6'],     [14, 15, 16], [1, 2, 3], 'POST'),\n",
    "                    ('LINK1',       'PRE',     ['B4', 'B5', 'B6'],     [25, 25, 26], [1, 2, 3], 'PRE'), \n",
    "                    ('LINK1',       'POST',    ['B4', 'B5', 'B6'],     [25, 25, 26], [1, 2, 3], 'POST'), \n",
    "                    ('LINK2',       'PRE',     ['C3', 'C4', 'C6'],     [33, 34, 36], [1, 2, 3], 'PRE'), \n",
    "                    ('LINK2',       'POST',    ['C3', 'C4', 'C6'],     [33, 34, 36], [1, 2, 3], 'POST'), \n",
    "                    ('LINK3',       'PRE',     ['D4', 'D5', 'D6'],     [44, 45, 46], [1, 2, 3], 'PRE'), \n",
    "                    ('LINK3',       'POST',    ['D4', 'D5', 'D6'],     [44, 45, 46], [1, 2, 3], 'POST'), \n",
    "                    ('BP+LINK1',    'PRE',     ['B1', 'B2', 'B3'],     [21, 22, 23], [1, 2, 3], 'PRE'), \n",
    "                    ('BP+LINK1',    'POST',    ['B1', 'B2', 'B3'],     [21, 22, 23], [1, 2, 3], 'POST'), \n",
    "                    ('BP+LINK2',    'PRE',     ['C1', 'C2', 'C5'],     [21, 32, 35], [1, 2, 3], 'PRE'), \n",
    "                    ('BP+LINK2',    'POST',    ['C1', 'C2', 'C5'],     [21, 32, 35], [1, 2, 3], 'POST'), \n",
    "                    ('BP+LINK3',    'PRE',     ['D1', 'D2', 'D3'],     [41, 42, 43], [1, 2, 3], 'PRE'), \n",
    "                    ('BP+LINK3',    'POST',    ['D1', 'D2', 'D3'],     [41, 42, 43], [1, 2, 3], 'POST'), \n",
    "                   ]"
   ]
  },
  {
   "cell_type": "code",
   "execution_count": null,
   "metadata": {},
   "outputs": [],
   "source": [
    "#20240429-30\n",
    "\n",
    "CONDITION_NAME = \"pulse-duration\"\n",
    "CONDITION = 500\n",
    "\n",
    "folder_input = f'{FOLDER_INPUT_BASE}/{CONDITION_NAME}_{CONDITION}'\n",
    "folder_output = f'{FOLDER_OUTPUT_BASE}/{CONDITION_NAME}_{CONDITION}'\n",
    "\n",
    "os.makedirs(folder_output, exist_ok=True)\n",
    "\n",
    "list_conditions = [#('Condition', 'Treatment', 'Wells', 'Well_num', 'Replicate', 'Folder') \n",
    "                    ('CTRL',        'PRE',      ['A1', 'A2', 'A3'], ['11', '12', '13'], [1, 2, 3], 'PRE'), \n",
    "                    ('CTRL',        'POST',     ['A1', 'A2', 'A3'], ['11', '12', '13'], [1, 2, 3], 'POST'),\n",
    "                    ('BP',          'PRE',      ['A4', 'A5', 'A6'], ['14', '15', '16'], [1, 2, 3], 'PRE'), \n",
    "                    ('BP',          'POST',     ['A4', 'A5', 'A6'], ['14', '15', '16'], [1, 2, 3], 'POST'), \n",
    "                    ('LINK1',       'PRE',      ['B1', 'B2', 'B3'], ['21', '22', '23'], [1, 2, 3], 'PRE'), \n",
    "                    ('LINK1',       'POST',     ['B1', 'B2', 'B3'], ['21', '22', '23'], [1, 2, 3], 'POST'),\n",
    "                    ('LINK2',       'PRE',      ['C1', 'C2', 'C3'], ['31', '32', '33'], [1, 2, 3], 'PRE'), \n",
    "                    ('LINK2',       'POST',     ['C1', 'C2', 'C3'], ['31', '32', '33'], [1, 2, 3], 'POST'),\n",
    "                    ('LINK3',       'PRE',      ['D1', 'D2', 'D3'], ['41', '42', '43'], [1, 2, 3], 'PRE'), \n",
    "                    ('LINK3',       'POST',     ['D1', 'D2', 'D3'], ['41', '42', '43'], [1, 2, 3], 'POST'),\n",
    "                    ('BP+LINK1',    'PRE',      ['B4', 'B5', 'B6'], ['24', '25', '26'], [1, 2, 3], 'PRE'), \n",
    "                    ('BP+LINK1',    'POST',     ['B4', 'B5', 'B6'], ['24', '25', '26'], [1, 2, 3], 'POST'),\n",
    "                    ('BP+LINK2',    'PRE',      ['C4', 'C5', 'C6'], ['34', '35', '36'], [1, 2, 3], 'PRE'), \n",
    "                    ('BP+LINK2',    'POST',     ['C4', 'C5', 'C6'], ['34', '35', '36'], [1, 2, 3], 'POST'),\n",
    "                    ('BP+LINK3',    'PRE',      ['D4', 'D5', 'D6'], ['44', '45', '46'], [1, 2, 3], 'PRE'), \n",
    "                    ('BP+LINK3',    'POST',     ['D4', 'D5', 'D6'], ['44', '45', '46'], [1, 2, 3], 'POST'),\n",
    "                   ]"
   ]
  },
  {
   "cell_type": "code",
   "execution_count": null,
   "metadata": {},
   "outputs": [],
   "source": [
    "#20240607\n",
    "#linker = 5uM\n",
    "#BP1 = 0.02nM\n",
    "#BP2 = 0.05nM\n",
    "\n",
    "CONDITION_NAME = \"Placa\"\n",
    "CONDITION = \"1\"\n",
    "\n",
    "folder_input = f'{FOLDER_INPUT_BASE}/{CONDITION_NAME}_{CONDITION}'\n",
    "folder_output = f'{FOLDER_OUTPUT_BASE}/{CONDITION_NAME}_{CONDITION}'\n",
    "\n",
    "os.makedirs(folder_output, exist_ok=True)\n",
    "\n",
    "list_conditions = [#('Condition', 'Treatment', 'Wells', 'Well_num', 'Replicate', 'Folder') \n",
    "                    ('CTRL_100msec',        'PRE',      ['A1', 'A2'], ['11', '12'], [1, 2], 'PRE'), \n",
    "                    ('CTRL_100msec',        'POST',     ['A1', 'A2'], ['11', '12'], [1, 2], 'POST'),\n",
    "                    ('LINK_100msec',        'PRE',      ['A3', 'A4'], ['13', '14'], [1, 2], 'PRE'), \n",
    "                    ('LINK_100msec',        'POST',     ['A3', 'A4'], ['13', '14'], [1, 2], 'POST'), \n",
    "                    ('BP1_100msec',         'PRE',      ['B1', 'B2'], ['21', '22'], [1, 2], 'PRE'), \n",
    "                    ('BP1_100msec',         'POST',     ['B1', 'B2'], ['21', '22'], [1, 2], 'POST'),\n",
    "                    ('BP1_200msec',         'PRE',      ['B3', 'B4'], ['23', '24'], [1, 2], 'PRE'), \n",
    "                    ('BP1_200msec',         'POST',     ['B3', 'B4'], ['23', '24'], [1, 2], 'POST'),\n",
    "                    ('BP1_500msec',         'PRE',      ['C1', 'C2'], ['31', '32'], [1, 2], 'PRE'), \n",
    "                    ('BP1_500msec',         'POST',     ['C1', 'C2'], ['31', '32'], [1, 2], 'POST'),\n",
    "                    ('BP2_100msec',         'PRE',      ['C3', 'C4'], ['33', '34'], [1, 2], 'PRE'), \n",
    "                    ('BP2_100msec',         'POST',     ['C3', 'C4'], ['33', '34'], [1, 2], 'POST'),\n",
    "                    ('BP2_200msec',         'PRE',      ['D1', 'D2'], ['41', '42'], [1, 2], 'PRE'), \n",
    "                    ('BP2_200msec',         'POST',     ['D1', 'D2'], ['41', '42'], [1, 2], 'POST'),\n",
    "                    ('BP2_500msec',         'PRE',      ['D3', 'D4'], ['43', '44'], [1, 2], 'PRE'), \n",
    "                    ('BP2_500msec',         'POST',     ['D3', 'D4'], ['43', '44'], [1, 2], 'POST')\n",
    "                   ]"
   ]
  },
  {
   "cell_type": "code",
   "execution_count": null,
   "metadata": {},
   "outputs": [],
   "source": [
    "#20240607\n",
    "#linker = 5uM\n",
    "#BP1 = 0.02nM\n",
    "#BP2 = 0.05nM\n",
    "\n",
    "CONDITION_NAME = \"Placa\"\n",
    "CONDITION = \"2\"\n",
    "\n",
    "folder_input = f'{FOLDER_INPUT_BASE}/{CONDITION_NAME}_{CONDITION}'\n",
    "folder_output = f'{FOLDER_OUTPUT_BASE}/{CONDITION_NAME}_{CONDITION}'\n",
    "\n",
    "os.makedirs(folder_output, exist_ok=True)\n",
    "\n",
    "list_conditions = [#('Condition', 'Treatment', 'Wells', 'Well_num', 'Replicate', 'Folder') ,\n",
    "                    ('LINK+BP1_100msec',    'PRE',      ['A2', 'A3'], ['12', '13'], [1, 2], 'PRE'), \n",
    "                    ('LINK+BP1_100msec',    'POST',     ['A2', 'A3'], ['12', '13'], [1, 2],  'POST'),\n",
    "                    ('LINK+BP1_200msec',    'PRE',      ['B2', 'B4'], ['22', '24'], [1, 2], 'PRE'), \n",
    "                    ('LINK+BP1_200msec',    'POST',     ['B2', 'B4'], ['22', '24'], [1, 2],  'POST'),\n",
    "                    ('LINK+BP1_500msec',    'PRE',      ['B5', 'C1'], ['25', '31'], [1, 2], 'PRE'), \n",
    "                    ('LINK+BP1_500msec',    'POST',     ['B5', 'C1'], ['25', '31'], [1, 2],  'POST'),\n",
    "                    ('LINK+BP2_100msec',    'PRE',      ['C3', 'C4'], ['33', '34'], [1, 2], 'PRE'), \n",
    "                    ('LINK+BP2_100msec',    'POST',     ['C3', 'C4'], ['33', '34'], [1, 2],  'POST'),\n",
    "                    ('LINK+BP2_200msec',    'PRE',      ['C5', 'C6'], ['35', '36'], [1, 2], 'PRE'), \n",
    "                    ('LINK+BP2_200msec',    'POST',     ['C5', 'C6'], ['35', '36'], [1, 2],  'POST'),\n",
    "                    ('LINK+BP2_500msec',    'PRE',      ['D3', 'D5'], ['43', '45'], [1, 2], 'PRE'), \n",
    "                    ('LINK+BP2_500msec',    'POST',     ['D3', 'D5'], ['43', '45'], [1, 2],  'POST'),\n",
    "                   ]"
   ]
  },
  {
   "cell_type": "code",
   "execution_count": 8,
   "metadata": {},
   "outputs": [],
   "source": [
    "#20240708\n",
    "\n",
    "#linker1 = 0.5uM\n",
    "#linker2 = 2uM\n",
    "#linker3 = 5uM\n",
    "\n",
    "#BP1 = 0.002nM\n",
    "#BP2 = 0.02nM\n",
    "#BP3 = 0.05nM\n",
    "\n",
    "CONDITION_NAME = \"pulse_duration\"\n",
    "CONDITION = \"200\"\n",
    "\n",
    "folder_input = f'{FOLDER_INPUT_BASE}/{CONDITION_NAME}_{CONDITION}'\n",
    "folder_output = f'{FOLDER_OUTPUT_BASE}/{CONDITION_NAME}_{CONDITION}'\n",
    "\n",
    "os.makedirs(folder_output, exist_ok=True)\n",
    "\n",
    "list_conditions = [#('Condition', 'Treatment', 'Wells', 'Well_num', 'Replicate', 'Folder') ,\n",
    "                    ('BP1_200msec',             'PRE',       ['A1', 'A3'], ['11', '13'], [1, 2], 'PRE'), \n",
    "                    ('BP1_200msec',             'POST',      ['A1', 'A3'], ['11', '13'], [1, 2], 'POST'),\n",
    "                    ('BP2_200msec',             'PRE',       ['A4', 'A5'], ['14', '15'], [1, 2], 'PRE'), \n",
    "                    ('BP2_200msec',             'POST',      ['A4', 'A5'], ['14', '15'], [1, 2], 'POST'),\n",
    "                    ('BP3_200msec',             'PRE',       ['B2', 'B4'], ['22', '24'], [1, 2], 'PRE'), \n",
    "                    ('BP3_200msec',             'POST',      ['B2', 'B4'], ['22', '24'], [1, 2], 'POST'),\n",
    "                    ('LINK1+BP1_200msec',       'PRE',       ['B5', 'B6'], ['25', '26'], [1, 2], 'PRE'), \n",
    "                    ('LINK1+BP1_200msec',       'LINKER',    ['B5', 'B6'], ['25', '26'], [1, 2], 'LINKER'),\n",
    "                    ('LINK1+BP1_200msec',       'POST',      ['B5', 'B6'], ['25', '26'], [1, 2], 'POST'),\n",
    "                    ('LINK2+BP1_200msec',       'PRE',       ['C4', 'C5'], ['34', '35'], [1, 2], 'PRE'), \n",
    "                    ('LINK2+BP1_200msec',       'LINKER',    ['C4', 'C5'], ['34', '35'], [1, 2], 'LINKER'),\n",
    "                    ('LINK2+BP1_200msec',       'POST',      ['C4', 'C5'], ['34', '35'], [1, 2], 'POST'),\n",
    "                    ('LINK3+BP1_200msec',       'PRE',       ['C6', 'D6'], ['36', '46'], [1, 2], 'PRE'), \n",
    "                    ('LINK3+BP1_200msec',       'LINKER',    ['C6', 'D6'], ['36', '46'], [1, 2], 'LINKER'),\n",
    "                    ('LINK3+BP1_200msec',       'POST',      ['C6', 'D6'], ['36', '46'], [1, 2], 'POST'),\n",
    "                    ('LINK3+BP2_200msec',       'PRE',       ['D2', 'D3'], ['42', '43'], [1, 2], 'PRE'), \n",
    "                    ('LINK3+BP2_200msec',       'LINKER',    ['D2', 'D3'], ['42', '43'], [1, 2], 'LINKER'),\n",
    "                    ('LINK3+BP2_200msec',       'POST',      ['D2', 'D3'], ['42', '43'], [1, 2], 'POST'),\n",
    "                    ('LINK3+BP3_200msec',       'PRE',       ['D4', 'D5'], ['44', '45'], [1, 2], 'PRE'), \n",
    "                    ('LINK3+BP3_200msec',       'LINKER',    ['D4', 'D5'], ['44', '45'], [1, 2], 'LINKER'),\n",
    "                    ('LINK3+BP3_200msec',       'POST',      ['D4', 'D5'], ['44', '45'], [1, 2], 'POST'),\n",
    "                   ]"
   ]
  },
  {
   "cell_type": "markdown",
   "metadata": {},
   "source": [
    "**||||||||||||||||||||||||||||||||||||||||||||||||||||||||||||||||||||||||||||||||||||||||||||||||||||||||||||||||||||||||||||||||||||||||||||||||||||||||||||||||||||**"
   ]
  },
  {
   "cell_type": "code",
   "execution_count": null,
   "metadata": {},
   "outputs": [],
   "source": [
    "df_peaks = pd.DataFrame(columns=['condition', 'treatment', 'well', 'well_num', 'replicate', 'electrode', 'time'])\n",
    "\n",
    "for condition, treatment, list_wells, list_wells_num, replicates, sample_base in list_conditions:\n",
    "    for well, well_num, replicate in zip(list_wells, list_wells_num, replicates):\n",
    "        print(condition, treatment, well, well_num, replicate, sample_base)\n",
    "        well_num = str(well_num)\n",
    "        list_peak_times, list_electrodes = retrieve_peaks(root=folder_input, sample_base=sample_base, well=(int(well_num[0]), int(well_num[1])))\n",
    "        \n",
    "        df_peaks_i = pd.DataFrame({'condition': [condition] * len(list_peak_times), \n",
    "                                    'treatment': [treatment] * len(list_peak_times), \n",
    "                                    'well': [well] * len(list_peak_times), \n",
    "                                    'well_num': [well_num] * len(list_peak_times), \n",
    "                                    'replicate': [replicate] * len(list_peak_times), \n",
    "                                    'electrode': list_electrodes, \n",
    "                                    'time': list_peak_times\n",
    "                                    })\n",
    "        \n",
    "        df_peaks = pd.concat([df_peaks, df_peaks_i]).reset_index(drop=True)\n",
    "        print(len(df_peaks))"
   ]
  },
  {
   "cell_type": "code",
   "execution_count": null,
   "metadata": {},
   "outputs": [],
   "source": [
    "df_peaks.to_csv(f'{folder_output}/df_peaks_full_{CONDITION_NAME}_{CONDITION}.csv', index=False)"
   ]
  }
 ],
 "metadata": {
  "kernelspec": {
   "display_name": "nanoneuro",
   "language": "python",
   "name": "python3"
  },
  "language_info": {
   "codemirror_mode": {
    "name": "ipython",
    "version": 3
   },
   "file_extension": ".py",
   "mimetype": "text/x-python",
   "name": "python",
   "nbconvert_exporter": "python",
   "pygments_lexer": "ipython3",
   "version": "3.10.14"
  }
 },
 "nbformat": 4,
 "nbformat_minor": 2
}
