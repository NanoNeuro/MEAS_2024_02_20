{
 "cells": [
  {
   "cell_type": "markdown",
   "metadata": {},
   "source": [
    "El objetivo de este notebook es plotear y analizar tiempos / spikes de experimentos. Por un lado cargamos un archivo donde se indica el tiempo de activación del láser, y por otro tenemos los spikes. Tenemos que plotear primero, de manera coordinada, la información de ambos archivos."
   ]
  },
  {
   "cell_type": "code",
   "execution_count": null,
   "metadata": {},
   "outputs": [],
   "source": [
    "import pandas as pd\n",
    "import matplotlib.pyplot as plt\n",
    "import matplotlib as mpl\n",
    "import numpy as np\n",
    "import time\n",
    "import datetime as dt\n",
    "import os\n",
    "import seaborn as sns\n",
    "# comment2"
   ]
  },
  {
   "cell_type": "code",
   "execution_count": null,
   "metadata": {},
   "outputs": [],
   "source": [
    "hoy = dt.date.today()"
   ]
  },
  {
   "cell_type": "code",
   "execution_count": null,
   "metadata": {},
   "outputs": [],
   "source": [
    "df_times = pd.read_csv('tiempos.csv', sep=', ', header=None, index_col=0)\n",
    "df_times"
   ]
  },
  {
   "cell_type": "code",
   "execution_count": null,
   "metadata": {},
   "outputs": [],
   "source": [
    "exp_date = '2024_02_20'\n",
    "\n",
    "name_sample = 'D19_POSTsiembra_A1_(I)(001)'\n",
    "name_file_spikes = f'{name_sample}_spike_list.csv'\n",
    "name_file_laser = '202402020_MEAs_A1_(I).xls'\n",
    "\n",
    "timestamp = [int(i) for i in df_times[1].loc[name_sample].split(':')]\n",
    "\n",
    "time_absolute_start = dt.datetime.combine(hoy, dt.time(timestamp[0], timestamp[1], timestamp[2], timestamp[3] * 1000))  # A1_(IV)_(000)\n",
    "\n",
    "os.makedirs(f'../../results/{exp_date}', exist_ok=True)\n",
    "\n",
    "\n",
    "time_absolute_start"
   ]
  },
  {
   "cell_type": "code",
   "execution_count": null,
   "metadata": {},
   "outputs": [],
   "source": [
    "df_spikes = pd.read_csv(f\"../../spike_lists/{exp_date}/{name_file_spikes}\", sep='\\t', encoding='unicode_escape')\n",
    "df_spikes['electrode_str'] = [i.split('_')[1] for i in df_spikes['Electrode']]\n",
    "df_spikes['electrode_coord'] = [(int(electrode[0]) - 1, 3 - (int(electrode[1]) - 1)) for electrode in df_spikes['electrode_str']]\n",
    "df_spikes"
   ]
  },
  {
   "cell_type": "code",
   "execution_count": null,
   "metadata": {},
   "outputs": [],
   "source": [
    "df_laser = pd.read_excel(f\"../../tiempos_structura/{exp_date}/{name_file_laser}\", index_col=0)\n",
    "df_laser['start_times'] = [(dt.datetime.combine(hoy, df_laser['Turn ON Laser Time'].iloc[i]) - time_absolute_start).total_seconds() for i in range(len(df_laser))]\n",
    "df_laser['end_times'] = [(dt.datetime.combine(hoy, df_laser['Turn OFF Laser Time'].iloc[i]) - time_absolute_start).total_seconds() for i in range(len(df_laser))]\n",
    "df_laser['duration'] = df_laser['ON duration (ms)'] / 1000\n",
    "df_laser\n"
   ]
  },
  {
   "cell_type": "code",
   "execution_count": null,
   "metadata": {},
   "outputs": [],
   "source": [
    "voltages = sorted(set(df_laser['Laser Power (mW)'].values))\n",
    "electrodes = sorted(set(df_spikes['electrode_str'].values))\n",
    "\n",
    "window = 2\n",
    "\n",
    "fig, axs = plt.subplots(len(voltages), 1, figsize=(25, 18))\n",
    "\n",
    "\n",
    "for idx, voltage in enumerate(voltages):\n",
    "    df_laser_sub = df_laser[df_laser['Laser Power (mW)'] == voltage]\n",
    "    t_0, t_f = min(df_laser_sub['start_times']), max(df_laser_sub['end_times'])\n",
    "\n",
    "\n",
    "    for rep, start, end in zip(df_laser_sub['Repetition'].values, df_laser_sub['start_times'].values, df_laser_sub['end_times'].values):\n",
    "        axs[idx].add_patch(mpl.patches.Rectangle((start, -1), end - start, len(electrodes)+1, alpha=0.25))\n",
    "\n",
    "    for electrode_idx, electrode in enumerate(electrodes):\n",
    "        df_spikes_sub = df_spikes[(df_spikes['Time (s)'] > t_0 - window) & (df_spikes['Time (s)'] < t_f + window) & (df_spikes['electrode_str'] == electrode)]\n",
    "        axs[idx].scatter(x=df_spikes_sub['Time (s)'].values, y=[electrode_idx] * len(df_spikes_sub), marker='|', c='#455454')\n",
    "    \n",
    "\n",
    "\n",
    "    axs[idx].set_yticks(np.array(range(len(electrodes))))\n",
    "    axs[idx].set_yticklabels(electrodes)\n",
    "    axs[idx].set_ylim([-1, len(electrodes)])\n",
    "\n",
    "plt.savefig(f'../../results/{exp_date}/{name_sample}.png', dpi=300)"
   ]
  },
  {
   "cell_type": "markdown",
   "metadata": {},
   "source": [
    "# Calculating the mean representation time between pulses"
   ]
  },
  {
   "cell_type": "code",
   "execution_count": null,
   "metadata": {},
   "outputs": [],
   "source": [
    "tw = 0.1\n",
    "\n",
    "time_ranges = np.arange(np.min(df_laser['start_times']) , np.max(df_laser['end_times']) , tw)\n",
    "time_ranges_mean = (time_ranges[1:] + time_ranges[:-1]) * 0.5 \n",
    "\n",
    "counts = np.array([len(df_spikes[(df_spikes['Time (s)'] >= start) & (df_spikes['Time (s)'] < end)]) for start, end in zip(time_ranges[:-1], time_ranges[1: ])])\n",
    "len(counts)\n"
   ]
  },
  {
   "cell_type": "code",
   "execution_count": null,
   "metadata": {},
   "outputs": [],
   "source": [
    "tmps = np.argwhere(counts > 80).flatten() * tw\n",
    "diff = tmps[1: ] - tmps[: -1]\n",
    "sns.swarmplot(diff[diff > 2 * tw])\n",
    "\n"
   ]
  }
 ],
 "metadata": {
  "kernelspec": {
   "display_name": "nanoneuro",
   "language": "python",
   "name": "python3"
  },
  "language_info": {
   "codemirror_mode": {
    "name": "ipython",
    "version": 3
   },
   "file_extension": ".py",
   "mimetype": "text/x-python",
   "name": "python",
   "nbconvert_exporter": "python",
   "pygments_lexer": "ipython3",
   "version": "3.9.13"
  }
 },
 "nbformat": 4,
 "nbformat_minor": 2
}
