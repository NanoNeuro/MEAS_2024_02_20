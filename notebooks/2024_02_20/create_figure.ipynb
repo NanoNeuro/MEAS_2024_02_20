{
 "cells": [
  {
   "cell_type": "markdown",
   "metadata": {},
   "source": [
    "El objetivo de este notebook es plotear y analizar tiempos / spikes de experimentos. Por un lado cargamos un archivo donde se indica el tiempo de activación del láser, y por otro tenemos los spikes. Tenemos que plotear primero, de manera coordinada, la información de ambos archivos."
   ]
  },
  {
   "cell_type": "code",
   "execution_count": null,
   "metadata": {},
   "outputs": [],
   "source": [
    "import pandas as pd\n",
    "import matplotlib.pyplot as plt\n",
    "import matplotlib as mpl\n",
    "import numpy as np\n",
    "import time\n",
    "import datetime as dt\n",
    "import os\n",
    "import seaborn as sns"
   ]
  },
  {
   "cell_type": "code",
   "execution_count": null,
   "metadata": {},
   "outputs": [],
   "source": [
    "hoy = dt.date.today()"
   ]
  },
  {
   "cell_type": "code",
   "execution_count": 156,
   "metadata": {},
   "outputs": [
    {
     "name": "stderr",
     "output_type": "stream",
     "text": [
      "C:\\Users\\ane\\AppData\\Local\\Temp\\ipykernel_17736\\936114925.py:1: ParserWarning: Falling back to the 'python' engine because the 'c' engine does not support regex separators (separators > 1 char and different from '\\s+' are interpreted as regex); you can avoid this warning by specifying engine='python'.\n",
      "  df_times = pd.read_csv('tiempos.csv', sep=', ', header=None, index_col=0)\n"
     ]
    }
   ],
   "source": [
    "df_times = pd.read_csv('tiempos.csv', sep=', ', header=None, index_col=0)\n",
    "#df_times"
   ]
  },
  {
   "cell_type": "code",
   "execution_count": 157,
   "metadata": {},
   "outputs": [],
   "source": [
    "exp_date = '2024_02_20'\n",
    "\n",
    "name_sample = 'D19_POSTsiembra_A2_(I)(000)'\n",
    "name_file_spikes = f'{name_sample}_spike_list.csv'\n",
    "name_file_laser = '202402020_MEAs_A2_(I).xls'\n",
    "\n",
    "timestamp = [int(i) for i in df_times[1].loc[name_sample].split(':')]\n",
    "\n",
    "time_absolute_start = dt.datetime.combine(hoy, dt.time(timestamp[0], timestamp[1], timestamp[2], timestamp[3] * 1000))  # A1_(IV)_(000)\n",
    "\n",
    "os.makedirs(f'../../results/{exp_date}', exist_ok=True)\n",
    "\n",
    "\n",
    "#time_absolute_start"
   ]
  },
  {
   "cell_type": "code",
   "execution_count": 159,
   "metadata": {},
   "outputs": [
    {
     "data": {
      "text/html": [
       "<div>\n",
       "<style scoped>\n",
       "    .dataframe tbody tr th:only-of-type {\n",
       "        vertical-align: middle;\n",
       "    }\n",
       "\n",
       "    .dataframe tbody tr th {\n",
       "        vertical-align: top;\n",
       "    }\n",
       "\n",
       "    .dataframe thead th {\n",
       "        text-align: right;\n",
       "    }\n",
       "</style>\n",
       "<table border=\"1\" class=\"dataframe\">\n",
       "  <thead>\n",
       "    <tr style=\"text-align: right;\">\n",
       "      <th></th>\n",
       "      <th>ï»¿Investigator;;Time (s);Electrode;Amplitude (mV)</th>\n",
       "    </tr>\n",
       "  </thead>\n",
       "  <tbody>\n",
       "    <tr>\n",
       "      <th>0</th>\n",
       "      <td>Recording Name;D19_POSTsiembra_A2_(I);0.04128;...</td>\n",
       "    </tr>\n",
       "    <tr>\n",
       "      <th>1</th>\n",
       "      <td>Description;;0.0468;A2_31;0.032</td>\n",
       "    </tr>\n",
       "    <tr>\n",
       "      <th>2</th>\n",
       "      <td>Maestro Edge (Maestro-091) Settings;;0.06104;A...</td>\n",
       "    </tr>\n",
       "    <tr>\n",
       "      <th>3</th>\n",
       "      <td>Original File Time;02/20/2024 10:29:16;0.10...</td>\n",
       "    </tr>\n",
       "    <tr>\n",
       "      <th>4</th>\n",
       "      <td>Sampling Frequency;12.5 kHz;0.26512;A2_23;0...</td>\n",
       "    </tr>\n",
       "    <tr>\n",
       "      <th>...</th>\n",
       "      <td>...</td>\n",
       "    </tr>\n",
       "    <tr>\n",
       "      <th>43130</th>\n",
       "      <td>;;202.99808;A2_32;0.019</td>\n",
       "    </tr>\n",
       "    <tr>\n",
       "      <th>43131</th>\n",
       "      <td>;;202.99824;A2_14;0.07</td>\n",
       "    </tr>\n",
       "    <tr>\n",
       "      <th>43132</th>\n",
       "      <td>;;202.9988;A2_31;0.075</td>\n",
       "    </tr>\n",
       "    <tr>\n",
       "      <th>43133</th>\n",
       "      <td>;;202.9992;A2_42;0.023</td>\n",
       "    </tr>\n",
       "    <tr>\n",
       "      <th>43134</th>\n",
       "      <td>;;202.99936;A2_23;0.056</td>\n",
       "    </tr>\n",
       "  </tbody>\n",
       "</table>\n",
       "<p>43135 rows × 1 columns</p>\n",
       "</div>"
      ],
      "text/plain": [
       "      ï»¿Investigator;;Time (s);Electrode;Amplitude (mV)\n",
       "0      Recording Name;D19_POSTsiembra_A2_(I);0.04128;...\n",
       "1                        Description;;0.0468;A2_31;0.032\n",
       "2      Maestro Edge (Maestro-091) Settings;;0.06104;A...\n",
       "3         Original File Time;02/20/2024 10:29:16;0.10...\n",
       "4         Sampling Frequency;12.5 kHz;0.26512;A2_23;0...\n",
       "...                                                  ...\n",
       "43130                            ;;202.99808;A2_32;0.019\n",
       "43131                             ;;202.99824;A2_14;0.07\n",
       "43132                             ;;202.9988;A2_31;0.075\n",
       "43133                             ;;202.9992;A2_42;0.023\n",
       "43134                            ;;202.99936;A2_23;0.056\n",
       "\n",
       "[43135 rows x 1 columns]"
      ]
     },
     "execution_count": 159,
     "metadata": {},
     "output_type": "execute_result"
    }
   ],
   "source": [
    "df_spikes = pd.read_csv(f\"../../spike_lists/{exp_date}/{name_file_spikes}\", sep='\\t', encoding='unicode_escape')\n",
    "df_spikes"
   ]
  },
  {
   "cell_type": "code",
   "execution_count": null,
   "metadata": {},
   "outputs": [],
   "source": [
    "\n",
    "df_spikes['electrode_str'] = [i.split('_')[1] for i in df_spikes['Electrode']]\n",
    "df_spikes['electrode_coord'] = [(int(electrode[0])-1, 3-(int(electrode[1])-1)) for electrode in df_spikes['electrode_str']]\n",
    "df_spikes"
   ]
  },
  {
   "cell_type": "code",
   "execution_count": null,
   "metadata": {},
   "outputs": [],
   "source": [
    "df_laser = pd.read_excel(f\"../../tiempos_structura/{exp_date}/{name_file_laser}\", index_col=0)\n",
    "df_laser['start_times'] = [(dt.datetime.combine(hoy, df_laser['Turn ON Laser Time'].iloc[i]) - time_absolute_start).total_seconds() for i in range(len(df_laser))]\n",
    "df_laser['end_times'] = [(dt.datetime.combine(hoy, df_laser['Turn OFF Laser Time'].iloc[i]) - time_absolute_start).total_seconds() for i in range(len(df_laser))]\n",
    "df_laser['duration'] = df_laser['ON duration (ms)'] / 1000\n",
    "df_laser\n"
   ]
  },
  {
   "cell_type": "code",
   "execution_count": null,
   "metadata": {},
   "outputs": [],
   "source": [
    "voltages = sorted(set(df_laser['Laser Power (mW)'].values))\n",
    "electrodes = sorted(set(df_spikes['electrode_str'].values))\n",
    "\n",
    "window = 3\n",
    "\n",
    "fig, axs = plt.subplots(len(voltages), 1, figsize=(18, 25))\n",
    "\n",
    "for idx, voltage in enumerate(voltages):\n",
    "    df_laser_sub = df_laser[df_laser['Laser Power (mW)'] == voltage]\n",
    "    t_0, t_f = min(df_laser_sub['start_times']), max(df_laser_sub['end_times'])\n",
    "\n",
    "\n",
    "    for rep, start, end in zip(df_laser_sub['Repetition'].values, df_laser_sub['start_times'].values, df_laser_sub['end_times'].values):\n",
    "        axs[idx].add_patch(mpl.patches.Rectangle((start, -1), end - start, len(electrodes)+1, alpha=0.25, color='#800000') )\n",
    "\n",
    "    for electrode_idx, electrode in enumerate(electrodes):\n",
    "        df_spikes_sub = df_spikes[(df_spikes['Time (s)'] > t_0 - window) & (df_spikes['Time (s)'] < t_f+window) & (df_spikes['electrode_str'] == electrode)]\n",
    "        axs[idx].scatter(x=df_spikes_sub['Time (s)'].values, y=[electrode_idx] * len(df_spikes_sub), marker='|', s=100, c='#7f7f7f')\n",
    "    \n",
    "\n",
    "\n",
    "    axs[idx].set_yticks(np.array(range(len(electrodes))))\n",
    "    axs[idx].set_yticklabels(electrodes)\n",
    "    axs[idx].set_ylim([-1, len(electrodes)])\n",
    "    axs[idx].set_xlim([t_0 - window, t_f+window])\n",
    "    axs[idx].tick_params(left = False) \n",
    "    axs[idx].set_xlabel('Time (s)')\n",
    "    axs[idx].set_ylabel('Electrodes')\n",
    "\n",
    "    axs[0].title.set_text('0 mW')\n",
    "    axs[1].title.set_text('20 mW')\n",
    "    axs[2].title.set_text('40 mW')\n",
    "    axs[3].title.set_text('60 mW')\n",
    "    axs[4].title.set_text('80 mW')\n",
    "    axs[5].title.set_text('100 mW')\n",
    "    \n",
    "\n",
    "plt.subplots_adjust(left=0.1,\n",
    "                    bottom=0.1, \n",
    "                    right=0.9, \n",
    "                    top=0.9, \n",
    "                    wspace=0.4, \n",
    "                    hspace=0.4)\n",
    "\n",
    "\n",
    "\n",
    "plt.savefig(f'../../results/{exp_date}/{name_sample}.png', dpi=300)"
   ]
  },
  {
   "cell_type": "markdown",
   "metadata": {},
   "source": [
    "# Calculating the mean representation time between pulses"
   ]
  },
  {
   "cell_type": "code",
   "execution_count": null,
   "metadata": {},
   "outputs": [],
   "source": [
    "tw = 0.1\n",
    "\n",
    "time_ranges = np.arange(np.min(df_laser['start_times']) , np.max(df_laser['end_times']) , tw)\n",
    "time_ranges_mean = (time_ranges[1:] + time_ranges[:-1]) * 0.5 \n",
    "\n",
    "counts = np.array([len(df_spikes[(df_spikes['Time (s)'] >= start) & (df_spikes['Time (s)'] < end)]) for start, end in zip(time_ranges[:-1], time_ranges[1: ])])\n",
    "len(counts)"
   ]
  },
  {
   "cell_type": "code",
   "execution_count": null,
   "metadata": {},
   "outputs": [],
   "source": [
    "tmps = np.argwhere(counts > 80).flatten() * tw\n",
    "diff = tmps[1: ] - tmps[: -1]\n",
    "sns.swarmplot(diff[diff > 2 * tw])"
   ]
  }
 ],
 "metadata": {
  "kernelspec": {
   "display_name": "nanoneuro",
   "language": "python",
   "name": "python3"
  },
  "language_info": {
   "codemirror_mode": {
    "name": "ipython",
    "version": 3
   },
   "file_extension": ".py",
   "mimetype": "text/x-python",
   "name": "python",
   "nbconvert_exporter": "python",
   "pygments_lexer": "ipython3",
   "version": "0.0.0"
  }
 },
 "nbformat": 4,
 "nbformat_minor": 2
}
