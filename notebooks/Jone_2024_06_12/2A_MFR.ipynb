{
 "cells": [
  {
   "cell_type": "code",
   "execution_count": null,
   "metadata": {},
   "outputs": [],
   "source": [
    "import pandas as pd\n",
    "import matplotlib.pyplot as plt\n",
    "import matplotlib as mpl\n",
    "import numpy as np\n",
    "import time\n",
    "import datetime as dt\n",
    "import os\n",
    "import seaborn as sns\n",
    "import scipy.stats as sts\n",
    "\n",
    "import random\n",
    "import string\n",
    "\n",
    "import polars as pl"
   ]
  },
  {
   "cell_type": "code",
   "execution_count": null,
   "metadata": {},
   "outputs": [],
   "source": [
    "from nb_vars import FOLDER_OUTPUT_BASE, CUTOFF_SPIKES_HZ"
   ]
  },
  {
   "cell_type": "markdown",
   "metadata": {},
   "source": [
    "## Load df of filtered peaks"
   ]
  },
  {
   "cell_type": "code",
   "execution_count": null,
   "metadata": {},
   "outputs": [],
   "source": [
    "CUTOFF_SPIKES_HZ = 0"
   ]
  },
  {
   "cell_type": "code",
   "execution_count": null,
   "metadata": {},
   "outputs": [],
   "source": [
    "CONDITION_NAME = \"EXPERIMENTO\"\n",
    "CONDITION = \"1\"  \n",
    "\n",
    "folder_input =  f'{FOLDER_OUTPUT_BASE}/{CONDITION_NAME} {CONDITION}'\n",
    "\n",
    "df_peaks_exp_1 = pl.read_csv(f'{folder_input}/df_peaks_full_{CONDITION_NAME}_{CONDITION}_freq_{CUTOFF_SPIKES_HZ}.csv').to_pandas()\n"
   ]
  },
  {
   "cell_type": "code",
   "execution_count": null,
   "metadata": {},
   "outputs": [],
   "source": [
    "CONDITION_NAME = \"CONTROL\"\n",
    "CONDITION = \"1\" \n",
    "\n",
    "folder_input =  f'{FOLDER_OUTPUT_BASE}/{CONDITION_NAME} {CONDITION}'\n",
    "\n",
    "df_peaks_ctrl_1 = pl.read_csv(f'{folder_input}/df_peaks_full_{CONDITION_NAME}_{CONDITION}_freq_{CUTOFF_SPIKES_HZ}.csv').to_pandas()"
   ]
  },
  {
   "cell_type": "code",
   "execution_count": null,
   "metadata": {},
   "outputs": [],
   "source": [
    "CONDITION_NAME = \"EXPERIMENTO\"\n",
    "CONDITION = \"2\" \n",
    "\n",
    "folder_input =  f'{FOLDER_OUTPUT_BASE}/{CONDITION_NAME} {CONDITION}'\n",
    "\n",
    "df_peaks_exp_2 = pl.read_csv(f'{folder_input}/df_peaks_full_{CONDITION_NAME}_{CONDITION}_freq_{CUTOFF_SPIKES_HZ}.csv').to_pandas()\n"
   ]
  },
  {
   "cell_type": "code",
   "execution_count": null,
   "metadata": {},
   "outputs": [],
   "source": [
    "CONDITION_NAME = \"CONTROL\"\n",
    "CONDITION = \"2\" \n",
    "\n",
    "folder_input =  f'{FOLDER_OUTPUT_BASE}/{CONDITION_NAME} {CONDITION}'\n",
    "\n",
    "df_peaks_ctrl_2 = pl.read_csv(f'{folder_input}/df_peaks_full_{CONDITION_NAME}_{CONDITION}_freq_{CUTOFF_SPIKES_HZ}.csv').to_pandas()"
   ]
  },
  {
   "cell_type": "code",
   "execution_count": null,
   "metadata": {},
   "outputs": [],
   "source": [
    "def adapt_MFR_df(df):\n",
    "    df['day'] = [1 if '24h' in i else 0 for i in df['time_exp']]\n",
    "    df.loc[df['time_exp'] == 'Base', 'day'] = -1 \n",
    "    df['min'] = [int(i.replace('24h + ', '').replace(' min', '')) if i != 'Base' else 0 for i in df['time_exp']]\n",
    "\n",
    "    df = df.sort_values(by=['day', 'min'])\n",
    "\n",
    "    df['condition_time'] = df['condition'] + ' | ' + df['time_exp']\n",
    "    df['condition_time'] = df['condition_time'].apply(lambda x: x.replace(' min', '').replace('h + ', '_'))\n",
    "\n",
    "    df['time_exp'] = df['time_exp'].apply(lambda x: x.replace(' min', '´'))\n",
    "\n",
    "    return df"
   ]
  },
  {
   "cell_type": "markdown",
   "metadata": {},
   "source": [
    "## Relative change in MFR"
   ]
  },
  {
   "cell_type": "markdown",
   "metadata": {},
   "source": [
    "### EXPERIMENT 1"
   ]
  },
  {
   "cell_type": "code",
   "execution_count": null,
   "metadata": {},
   "outputs": [],
   "source": [
    "df_MFR_ctrl_1 = df_peaks_ctrl_1.groupby(['condition', 'time_exp', 'well', 'replicate', 'electrode']).count()['time'] / (df_peaks_ctrl_1['time'].max() - df_peaks_ctrl_1['time'].min())\n",
    "df_MFR_ctrl_1 = df_MFR_ctrl_1.reset_index().sort_values(by=['condition', 'time_exp','well', 'electrode'])\n",
    "df_MFR_ctrl_1 = df_MFR_ctrl_1.rename(columns={'time': 'MFR'})\n",
    "\n",
    "df_MFR_ctrl_1 = adapt_MFR_df(df_MFR_ctrl_1)\n",
    "df_MFR_ctrl_1\n",
    "\n",
    "fig, ax = plt.subplots(1,1, figsize=(28,6))\n",
    "sns.boxplot(data=df_MFR_ctrl_1, x='time_exp', y='MFR', hue = 'replicate', ax=ax)\n"
   ]
  },
  {
   "cell_type": "code",
   "execution_count": null,
   "metadata": {},
   "outputs": [],
   "source": [
    "df_MFR_exp_1 = df_peaks_exp_1.groupby(['condition', 'time_exp', 'well', 'replicate', 'electrode']).count()['time'] / (df_peaks_exp_1['time'].max() - df_peaks_exp_1['time'].min())\n",
    "df_MFR_exp_1 = df_MFR_exp_1.reset_index().sort_values(by=['condition', 'time_exp','well', 'electrode'])\n",
    "df_MFR_exp_1 = df_MFR_exp_1.rename(columns={'time': 'MFR'})\n",
    "\n",
    "df_MFR_exp_1 = adapt_MFR_df(df_MFR_exp_1)\n",
    "df_MFR_exp_1"
   ]
  },
  {
   "cell_type": "code",
   "execution_count": null,
   "metadata": {},
   "outputs": [],
   "source": [
    "df_MFR_ctrl_exp_1 = pd.concat([df_MFR_ctrl_1, df_MFR_exp_1])\n",
    "\n",
    "fig, ax = plt.subplots(1,1, figsize=(28,6))\n",
    "sns.boxplot(data=df_MFR_ctrl_exp_1, x='time_exp', y='MFR', hue = 'condition', ax=ax)\n",
    "plt.show()\n"
   ]
  },
  {
   "cell_type": "code",
   "execution_count": null,
   "metadata": {},
   "outputs": [],
   "source": [
    "for tto in ['H PLKO', 'H 219', 'LIPOS -', 'LIPOS 219']:\n",
    "    fig, ax = plt.subplots(1,1, figsize=(28,6))\n",
    "    sns.boxplot(data=df_MFR_exp_1, x='time_exp', y='MFR', ax=ax)\n",
    "    ax.set_title(tto + ' MERGED REPLICATES')\n",
    "    plt.show()\n",
    "\n",
    "    fig, ax = plt.subplots(1,1, figsize=(28,6))\n",
    "    sns.boxplot(data=df_MFR_exp_1, x='time_exp', y='MFR', ax=ax, hue='replicate')\n",
    "    ax.set_title(tto + ' INDIVIDUAL REPLICATES')\n",
    "    plt.show()"
   ]
  },
  {
   "cell_type": "markdown",
   "metadata": {},
   "source": [
    "### EXPERIMENT 2"
   ]
  },
  {
   "cell_type": "code",
   "execution_count": null,
   "metadata": {},
   "outputs": [],
   "source": [
    "df_MFR_ctrl_2 = df_peaks_ctrl_2.groupby(['condition', 'time_exp', 'well', 'replicate', 'electrode']).count()['time'] / (df_peaks_ctrl_2['time'].max() - df_peaks_ctrl_2['time'].min())\n",
    "df_MFR_ctrl_2 = df_MFR_ctrl_2.reset_index().sort_values(by=['condition', 'time_exp','well', 'electrode'])\n",
    "df_MFR_ctrl_2 = df_MFR_ctrl_2.rename(columns={'time': 'MFR'})\n",
    "\n",
    "df_MFR_ctrl_2 = adapt_MFR_df(df_MFR_ctrl_2)\n",
    "df_MFR_ctrl_2\n",
    "\n",
    "fig, ax = plt.subplots(1,1, figsize=(28,6))\n",
    "sns.boxplot(data=df_MFR_ctrl_2, x='time_exp', y='MFR', hue = 'replicate', ax=ax)"
   ]
  },
  {
   "cell_type": "code",
   "execution_count": null,
   "metadata": {},
   "outputs": [],
   "source": [
    "df_MFR_exp_2 = df_peaks_exp_2.groupby(['condition', 'time_exp', 'well', 'replicate', 'electrode']).count()['time'] / (df_peaks_exp_2['time'].max() - df_peaks_exp_2['time'].min())\n",
    "df_MFR_exp_2 = df_MFR_exp_2.reset_index().sort_values(by=['condition', 'time_exp','well', 'electrode'])\n",
    "df_MFR_exp_2 = df_MFR_exp_2.rename(columns={'time': 'MFR'})\n",
    "\n",
    "df_MFR_exp_2 = adapt_MFR_df(df_MFR_exp_2)\n",
    "df_MFR_exp_2"
   ]
  },
  {
   "cell_type": "code",
   "execution_count": null,
   "metadata": {},
   "outputs": [],
   "source": [
    "df_MFR_ctrl_exp_2 = pd.concat([df_MFR_ctrl_2, df_MFR_exp_2])\n",
    "\n",
    "fig, ax = plt.subplots(1,1, figsize=(28,6))\n",
    "sns.boxplot(data=df_MFR_ctrl_exp_2, x='time_exp', y='MFR', hue = 'condition', ax=ax)\n",
    "plt.show()"
   ]
  },
  {
   "cell_type": "code",
   "execution_count": null,
   "metadata": {},
   "outputs": [],
   "source": [
    "df_MFR_2 = df_peaks_exp_2.groupby(['condition', 'time_exp', 'well', 'replicate', 'electrode']).count()['time'] / (df_peaks_exp_2['time'].max() - df_peaks_exp_2['time'].min())\n",
    "df_MFR_2 = df_MFR_2.reset_index().sort_values(by=['well', 'electrode'])\n",
    "df_MFR_2 = df_MFR_2.rename(columns={'time': 'MFR'})\n",
    "\n",
    "df_MFR_2 = adapt_MFR_df(df_MFR_2)\n",
    "df_MFR_2"
   ]
  },
  {
   "cell_type": "code",
   "execution_count": null,
   "metadata": {},
   "outputs": [],
   "source": [
    "for tto in ['GLIO PLKO', 'GLIO 219', 'LIPOS -', 'ASTRO 219']:\n",
    "    df_MFR_2_sub = df_MFR_2[df_MFR_2['condition'].isin(['BASAL', tto])]\n",
    "    df_MFR_2_sub.loc[df_MFR_2_sub['condition'] == 'BASAL', 'time_exp'] = 'B'\n",
    "\n",
    "    print(tto)\n",
    "    fig, ax = plt.subplots(1,1, figsize=(28,6))\n",
    "    sns.boxplot(data=df_MFR_2_sub, x='time_exp', y='MFR', ax=ax)\n",
    "    ax.set_title(tto + ' MERGED REPLICATES')\n",
    "    plt.show()\n",
    "\n",
    "    fig, ax = plt.subplots(1,1, figsize=(28,6))\n",
    "    sns.boxplot(data=df_MFR_2_sub, x='time_exp', y='MFR', ax=ax, hue='replicate')\n",
    "    ax.set_title(tto + ' INDIVIDUAL REPLICATES')\n",
    "    plt.show()"
   ]
  }
 ],
 "metadata": {
  "kernelspec": {
   "display_name": "nanoneuro",
   "language": "python",
   "name": "python3"
  },
  "language_info": {
   "codemirror_mode": {
    "name": "ipython",
    "version": 3
   },
   "file_extension": ".py",
   "mimetype": "text/x-python",
   "name": "python",
   "nbconvert_exporter": "python",
   "pygments_lexer": "ipython3",
   "version": "3.10.14"
  }
 },
 "nbformat": 4,
 "nbformat_minor": 2
}
