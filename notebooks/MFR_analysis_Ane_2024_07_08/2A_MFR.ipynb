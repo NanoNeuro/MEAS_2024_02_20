{
 "cells": [
  {
   "cell_type": "code",
   "execution_count": null,
   "metadata": {},
   "outputs": [],
   "source": [
    "import pandas as pd\n",
    "import polars as pl\n",
    "import matplotlib.pyplot as plt\n",
    "import matplotlib as mpl\n",
    "import numpy as np\n",
    "import time\n",
    "import datetime as dt\n",
    "import os\n",
    "import seaborn as sns\n",
    "import scipy.stats as sts\n",
    "\n",
    "import random\n",
    "import string"
   ]
  },
  {
   "cell_type": "code",
   "execution_count": null,
   "metadata": {},
   "outputs": [],
   "source": [
    "from nb_vars import FOLDER_OUTPUT_BASE, CUTOFF_SPIKES_HZ"
   ]
  },
  {
   "cell_type": "markdown",
   "metadata": {},
   "source": [
    "## Load df of filtered peaks"
   ]
  },
  {
   "cell_type": "code",
   "execution_count": null,
   "metadata": {},
   "outputs": [],
   "source": [
    "CONDITION_NAME = \"pulse_duration\"\n",
    "CONDITION = \"200\"\n",
    "\n",
    "folder_input =  f'{FOLDER_OUTPUT_BASE}/{CONDITION_NAME}_{CONDITION}'"
   ]
  },
  {
   "cell_type": "code",
   "execution_count": null,
   "metadata": {},
   "outputs": [],
   "source": [
    "df_peaks = pl.read_csv(f'{folder_input}/df_peaks_full_{CONDITION_NAME}_{CONDITION}_freq_{CUTOFF_SPIKES_HZ}.csv').to_pandas()\n"
   ]
  },
  {
   "cell_type": "code",
   "execution_count": null,
   "metadata": {},
   "outputs": [],
   "source": [
    "df_peaks"
   ]
  },
  {
   "cell_type": "markdown",
   "metadata": {},
   "source": [
    "## Relative change in MFR"
   ]
  },
  {
   "cell_type": "code",
   "execution_count": null,
   "metadata": {},
   "outputs": [],
   "source": [
    "df_MFR = df_peaks.groupby(['condition', 'treatment', 'well', 'replicate', 'electrode']).count()['time'] / (df_peaks['time'].max() - df_peaks['time'].min())\n",
    "df_MFR = df_MFR.reset_index().sort_values(by=['well', 'electrode'])\n",
    "df_MFR = df_MFR.rename(columns={'time': 'MFR'})\n",
    "df_MFR = df_MFR.reset_index(drop=True)\n",
    "df_MFR"
   ]
  },
  {
   "cell_type": "code",
   "execution_count": null,
   "metadata": {},
   "outputs": [],
   "source": [
    "df_MFR_summary = df_MFR.pivot(index=['condition', 'well', 'replicate', 'electrode'], columns='treatment', values='MFR').reset_index()\n",
    "df_MFR_summary = df_MFR_summary[['condition',\t'well',\t'replicate',\t'electrode',\t'PRE',\t'LINKER',\t'POST']]"
   ]
  },
  {
   "cell_type": "markdown",
   "metadata": {},
   "source": [
    "### Change POST vs PRE, LINKER vs PRE and POST vs LINKER"
   ]
  },
  {
   "cell_type": "code",
   "execution_count": null,
   "metadata": {},
   "outputs": [],
   "source": [
    "df_MFR_summary['POST_vs_PRE'] = 100 * df_MFR_summary['POST'] / df_MFR_summary['PRE']\n",
    "df_MFR_summary['POST_vs_LINKER'] =  100 * df_MFR_summary['POST'] / df_MFR_summary['LINKER'] \n",
    "df_MFR_summary['LINKER_vs_PRE'] =  100 * df_MFR_summary['LINKER'] / df_MFR_summary['PRE']\n",
    "\n",
    "df_MFR_summary.to_csv(f'{folder_input}/MFR_summary_{CONDITION_NAME}_{CONDITION}_freq_{CUTOFF_SPIKES_HZ}.csv', sep=';', index=None)\n",
    "df_MFR_summary\n"
   ]
  },
  {
   "cell_type": "code",
   "execution_count": null,
   "metadata": {},
   "outputs": [],
   "source": [
    "fig = plt.figure(figsize=(29,6))\n",
    "sns.swarmplot(data = df_MFR_summary, x='condition', y='POST_vs_PRE', hue='replicate')\n",
    "plt.plot([-0.5, len(df_MFR_summary['condition'].drop_duplicates()) - 0.5], [100, 100], c='#bc0000')"
   ]
  },
  {
   "cell_type": "code",
   "execution_count": null,
   "metadata": {},
   "outputs": [],
   "source": [
    "fig = plt.figure(figsize=(29,6))\n",
    "sns.boxplot(data = df_MFR_summary, x='condition', y='POST_vs_PRE')\n",
    "plt.plot([-0.5, len(df_MFR_summary['condition'].drop_duplicates()) - 0.5], [100, 100], c='#bc0000')"
   ]
  },
  {
   "cell_type": "code",
   "execution_count": null,
   "metadata": {},
   "outputs": [],
   "source": [
    "# %%script true\n",
    "\n",
    "# GRAPHS TO CHECK IF THERES A BIAS BETWEEN THE RATIO AND THE ACTIVITY\n",
    "\n",
    "sns.scatterplot(data = df_MFR_summary, x='PRE', y='POST_vs_PRE', label='PRE')\n",
    "sns.scatterplot(data = df_MFR_summary, x='POST', y='POST_vs_PRE', label='POST')\n"
   ]
  },
  {
   "cell_type": "code",
   "execution_count": null,
   "metadata": {},
   "outputs": [],
   "source": [
    "# %%script true\n",
    "\n",
    "\n",
    "df_MFR_summary['mean_PRE_POST'] = (df_MFR_summary['PRE'] + df_MFR_summary['POST']) / 2\n",
    "\n",
    "#create regplot\n",
    "p = sns.regplot(data = df_MFR_summary, x='mean_PRE_POST', y='POST_vs_PRE')\n",
    "\n",
    "#calculate slope and intercept of regression equation\n",
    "slope, intercept, r, p, sterr = sts.linregress(x=p.get_lines()[0].get_xdata(),\n",
    "                                                       y=p.get_lines()[0].get_ydata())\n",
    "\n",
    "#display slope and intercept of regression equation\n",
    "print(intercept, slope, p)\n"
   ]
  }
 ],
 "metadata": {
  "kernelspec": {
   "display_name": "nanoneuro",
   "language": "python",
   "name": "python3"
  },
  "language_info": {
   "codemirror_mode": {
    "name": "ipython",
    "version": 3
   },
   "file_extension": ".py",
   "mimetype": "text/x-python",
   "name": "python",
   "nbconvert_exporter": "python",
   "pygments_lexer": "ipython3",
   "version": "3.10.14"
  }
 },
 "nbformat": 4,
 "nbformat_minor": 2
}
