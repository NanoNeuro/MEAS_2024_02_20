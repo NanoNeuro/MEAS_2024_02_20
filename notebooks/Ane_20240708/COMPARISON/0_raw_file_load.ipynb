{
 "cells": [
  {
   "cell_type": "code",
   "execution_count": null,
   "metadata": {},
   "outputs": [],
   "source": [
    "import pandas as pd\n",
    "import numpy as np\n",
    "\n",
    "import datetime as dt\n",
    "import os\n",
    "\n",
    "import random\n",
    "import string\n",
    "\n",
    "import sys"
   ]
  },
  {
   "cell_type": "code",
   "execution_count": null,
   "metadata": {},
   "outputs": [],
   "source": [
    "module_path = os.path.abspath(os.path.join('../..'))\n",
    "if module_path not in sys.path:\n",
    "    sys.path.append(module_path)\n",
    "\n",
    "from py_functions.MEAS_recordings import retrieve_peaks"
   ]
  },
  {
   "cell_type": "markdown",
   "metadata": {},
   "source": [
    "## Running cells"
   ]
  },
  {
   "cell_type": "code",
   "execution_count": null,
   "metadata": {},
   "outputs": [],
   "source": [
    "from nb_vars import FOLDER_INPUT_BASE, FOLDER_INTERMEDIATE"
   ]
  },
  {
   "cell_type": "code",
   "execution_count": null,
   "metadata": {},
   "outputs": [],
   "source": [
    "#20240708\n",
    "\n",
    "#linker1 = 0.5uM\n",
    "#linker2 = 2uM\n",
    "#linker3 = 5uM\n",
    "\n",
    "#BP1 = 0.002nM\n",
    "#BP2 = 0.02nM\n",
    "#BP3 = 0.05nM\n",
    "\n",
    "CONDITION_NAME = \"pulse_duration\"\n",
    "CONDITION = \"200\"\n",
    "\n",
    "os.makedirs(FOLDER_INTERMEDIATE, exist_ok=True)\n",
    "\n",
    "list_conditions = [#('Condition', 'Treatment', 'Wells', 'Well_num', 'Replicate', 'Folder') ,\n",
    "                    ('BP1_200msec',             'PRE',       ['A1', 'A3'], ['11', '13'], [1, 2], 'PRE'), \n",
    "                    ('BP1_200msec',             'POST',      ['A1', 'A3'], ['11', '13'], [1, 2], 'POST'),\n",
    "                    ('BP2_200msec',             'PRE',       ['A4', 'A5'], ['14', '15'], [1, 2], 'PRE'), \n",
    "                    ('BP2_200msec',             'POST',      ['A4', 'A5'], ['14', '15'], [1, 2], 'POST'),\n",
    "                    ('BP3_200msec',             'PRE',       ['B2', 'B4'], ['22', '24'], [1, 2], 'PRE'), \n",
    "                    ('BP3_200msec',             'POST',      ['B2', 'B4'], ['22', '24'], [1, 2], 'POST'),\n",
    "                    ('LINK1+BP1_200msec',       'PRE',       ['B5', 'B6'], ['25', '26'], [1, 2], 'PRE'), \n",
    "                    ('LINK1+BP1_200msec',       'LINKER',    ['B5', 'B6'], ['25', '26'], [1, 2], 'LINKER'),\n",
    "                    ('LINK1+BP1_200msec',       'POST',      ['B5', 'B6'], ['25', '26'], [1, 2], 'POST'),\n",
    "                    ('LINK2+BP1_200msec',       'PRE',       ['C4', 'C5'], ['34', '35'], [1, 2], 'PRE'), \n",
    "                    ('LINK2+BP1_200msec',       'LINKER',    ['C4', 'C5'], ['34', '35'], [1, 2], 'LINKER'),\n",
    "                    ('LINK2+BP1_200msec',       'POST',      ['C4', 'C5'], ['34', '35'], [1, 2], 'POST'),\n",
    "                    ('LINK3+BP1_200msec',       'PRE',       ['C6', 'D6'], ['36', '46'], [1, 2], 'PRE'), \n",
    "                    ('LINK3+BP1_200msec',       'LINKER',    ['C6', 'D6'], ['36', '46'], [1, 2], 'LINKER'),\n",
    "                    ('LINK3+BP1_200msec',       'POST',      ['C6', 'D6'], ['36', '46'], [1, 2], 'POST'),\n",
    "                    ('LINK3+BP2_200msec',       'PRE',       ['D2', 'D3'], ['42', '43'], [1, 2], 'PRE'), \n",
    "                    ('LINK3+BP2_200msec',       'LINKER',    ['D2', 'D3'], ['42', '43'], [1, 2], 'LINKER'),\n",
    "                    ('LINK3+BP2_200msec',       'POST',      ['D2', 'D3'], ['42', '43'], [1, 2], 'POST'),\n",
    "                    ('LINK3+BP3_200msec',       'PRE',       ['D4', 'D5'], ['44', '45'], [1, 2], 'PRE'), \n",
    "                    ('LINK3+BP3_200msec',       'LINKER',    ['D4', 'D5'], ['44', '45'], [1, 2], 'LINKER'),\n",
    "                    ('LINK3+BP3_200msec',       'POST',      ['D4', 'D5'], ['44', '45'], [1, 2], 'POST'),\n",
    "                   ]"
   ]
  },
  {
   "cell_type": "markdown",
   "metadata": {},
   "source": [
    "**||||||||||||||||||||||||||||||||||||||||||||||||||||||||||||||||||||||||||||||||||||||||||||||||||||||||||||||||||||||||||||||||||||||||||||||||||||||||||||||||||||**"
   ]
  },
  {
   "cell_type": "code",
   "execution_count": null,
   "metadata": {},
   "outputs": [],
   "source": [
    "df_peaks = pd.DataFrame(columns=['condition', 'treatment', 'well', 'well_num', 'replicate', 'electrode', 'time'])\n",
    "\n",
    "for condition, treatment, list_wells, list_wells_num, replicates, sample_base in list_conditions:\n",
    "    for well, well_num, replicate in zip(list_wells, list_wells_num, replicates):\n",
    "        print(condition, treatment, well, well_num, replicate, sample_base)\n",
    "        well_num = str(well_num)\n",
    "        list_peak_times, list_electrodes = retrieve_peaks(root=FOLDER_INPUT_BASE, sample_base=sample_base, well=(int(well_num[0]), int(well_num[1])))\n",
    "        \n",
    "        df_peaks_i = pd.DataFrame({'condition': [condition] * len(list_peak_times), \n",
    "                                    'treatment': [treatment] * len(list_peak_times), \n",
    "                                    'well': [well] * len(list_peak_times), \n",
    "                                    'well_num': [well_num] * len(list_peak_times), \n",
    "                                    'replicate': [replicate] * len(list_peak_times), \n",
    "                                    'electrode': list_electrodes, \n",
    "                                    'time': list_peak_times\n",
    "                                    })\n",
    "        \n",
    "        df_peaks = pd.concat([df_peaks, df_peaks_i]).reset_index(drop=True)\n",
    "        print(len(df_peaks))"
   ]
  },
  {
   "cell_type": "code",
   "execution_count": null,
   "metadata": {},
   "outputs": [],
   "source": [
    "df_peaks.to_csv(f'{FOLDER_INTERMEDIATE}/df_peaks_full_{CONDITION_NAME}_{CONDITION}.csv', index=False)"
   ]
  },
  {
   "cell_type": "code",
   "execution_count": null,
   "metadata": {},
   "outputs": [],
   "source": [
    "!rm -rf $PWD/tmp"
   ]
  }
 ],
 "metadata": {
  "kernelspec": {
   "display_name": "nanoneuro",
   "language": "python",
   "name": "python3"
  },
  "language_info": {
   "codemirror_mode": {
    "name": "ipython",
    "version": 3
   },
   "file_extension": ".py",
   "mimetype": "text/x-python",
   "name": "python",
   "nbconvert_exporter": "python",
   "pygments_lexer": "ipython3",
   "version": "3.10.14"
  }
 },
 "nbformat": 4,
 "nbformat_minor": 2
}
