{
 "cells": [
  {
   "cell_type": "code",
   "execution_count": null,
   "metadata": {},
   "outputs": [],
   "source": [
    "import pandas as pd\n",
    "import matplotlib.pyplot as plt\n",
    "import matplotlib as mpl\n",
    "import numpy as np\n",
    "import time\n",
    "import datetime as dt\n",
    "import os\n",
    "import seaborn as sns\n",
    "import scipy.stats as sts\n",
    "\n",
    "import random\n",
    "import string\n",
    "\n",
    "import polars as pl"
   ]
  },
  {
   "cell_type": "code",
   "execution_count": null,
   "metadata": {},
   "outputs": [],
   "source": [
    "from nb_vars import FOLDER_INTERMEDIATE, FOLDER_OUTPUT, CUTOFF_SPIKES_HZ"
   ]
  },
  {
   "cell_type": "markdown",
   "metadata": {},
   "source": [
    "## Load df of filtered peaks"
   ]
  },
  {
   "cell_type": "code",
   "execution_count": null,
   "metadata": {},
   "outputs": [],
   "source": [
    "CONDITION_NAME = \"EXPERIMENTO\"\n",
    "CONDITION = \"1\"  \n",
    "\n",
    "folder_input =  f'{FOLDER_INTERMEDIATE}/{CONDITION_NAME} {CONDITION}'\n",
    "\n",
    "df_peaks_exp_1 = pl.read_csv(f'{folder_input}/df_peaks_full_{CONDITION_NAME}_{CONDITION}_freq_{CUTOFF_SPIKES_HZ}.csv').to_pandas()\n"
   ]
  },
  {
   "cell_type": "code",
   "execution_count": null,
   "metadata": {},
   "outputs": [],
   "source": [
    "CONDITION_NAME = \"CONTROL\"\n",
    "CONDITION = \"1\" \n",
    "\n",
    "folder_input =  f'{FOLDER_INTERMEDIATE}/{CONDITION_NAME} {CONDITION}'\n",
    "\n",
    "df_peaks_ctrl_1 = pl.read_csv(f'{folder_input}/df_peaks_full_{CONDITION_NAME}_{CONDITION}_freq_{CUTOFF_SPIKES_HZ}.csv').to_pandas()"
   ]
  },
  {
   "cell_type": "code",
   "execution_count": null,
   "metadata": {},
   "outputs": [],
   "source": [
    "CONDITION_NAME = \"EXPERIMENTO\"\n",
    "CONDITION = \"2\" \n",
    "\n",
    "folder_input =  f'{FOLDER_INTERMEDIATE}/{CONDITION_NAME} {CONDITION}'\n",
    "\n",
    "df_peaks_exp_2 = pl.read_csv(f'{folder_input}/df_peaks_full_{CONDITION_NAME}_{CONDITION}_freq_{CUTOFF_SPIKES_HZ}.csv').to_pandas()\n"
   ]
  },
  {
   "cell_type": "code",
   "execution_count": null,
   "metadata": {},
   "outputs": [],
   "source": [
    "CONDITION_NAME = \"CONTROL\"\n",
    "CONDITION = \"2\" \n",
    "\n",
    "folder_input =  f'{FOLDER_INTERMEDIATE}/{CONDITION_NAME} {CONDITION}'\n",
    "\n",
    "df_peaks_ctrl_2 = pl.read_csv(f'{folder_input}/df_peaks_full_{CONDITION_NAME}_{CONDITION}_freq_{CUTOFF_SPIKES_HZ}.csv').to_pandas()"
   ]
  },
  {
   "cell_type": "code",
   "execution_count": null,
   "metadata": {},
   "outputs": [],
   "source": [
    "def adapt_MFR_df(df):\n",
    "    df['day'] = [1 if '24h' in i else 0 for i in df['time_exp']]\n",
    "    df.loc[df['time_exp'] == 'Base', 'day'] = -1 \n",
    "    df['min'] = [int(i.replace('24h + ', '').replace(' min', '')) if i != 'Base' else 0 for i in df['time_exp']]\n",
    "\n",
    "    df = df.sort_values(by=['day', 'min'])\n",
    "\n",
    "    df['condition_time'] = df['condition'] + ' | ' + df['time_exp']\n",
    "    df['condition_time'] = df['condition_time'].apply(lambda x: x.replace(' min', '').replace('h + ', '_'))\n",
    "\n",
    "    df['time_exp'] = df['time_exp'].apply(lambda x: x.replace(' min', '´'))\n",
    "\n",
    "    return df"
   ]
  },
  {
   "cell_type": "markdown",
   "metadata": {},
   "source": [
    "## Relative change in MFR (without Baseline normalisation)"
   ]
  },
  {
   "cell_type": "markdown",
   "metadata": {},
   "source": [
    "### EXPERIMENT 1"
   ]
  },
  {
   "cell_type": "code",
   "execution_count": null,
   "metadata": {},
   "outputs": [],
   "source": [
    "df_MFR_ctrl_1 = df_peaks_ctrl_1.groupby(['condition', 'time_exp', 'well', 'replicate', 'electrode']).count()['time'] / (df_peaks_ctrl_1['time'].max() - df_peaks_ctrl_1['time'].min())\n",
    "df_MFR_ctrl_1 = df_MFR_ctrl_1.reset_index().sort_values(by=['condition', 'time_exp','well', 'electrode'])\n",
    "df_MFR_ctrl_1 = df_MFR_ctrl_1.rename(columns={'time': 'MFR'})\n",
    "\n",
    "df_MFR_ctrl_1 = adapt_MFR_df(df_MFR_ctrl_1)\n",
    "df_MFR_ctrl_1\n",
    "\n",
    "fig, ax = plt.subplots(1,1, figsize=(28,6))\n",
    "sns.boxplot(data=df_MFR_ctrl_1, x='time_exp', y='MFR', hue = 'replicate', ax=ax)\n"
   ]
  },
  {
   "cell_type": "code",
   "execution_count": null,
   "metadata": {},
   "outputs": [],
   "source": [
    "df_MFR_exp_1 = df_peaks_exp_1.groupby(['condition', 'time_exp', 'well', 'replicate', 'electrode']).count()['time'] / (df_peaks_exp_1['time'].max() - df_peaks_exp_1['time'].min())\n",
    "df_MFR_exp_1 = df_MFR_exp_1.reset_index().sort_values(by=['condition', 'time_exp','well', 'electrode'])\n",
    "df_MFR_exp_1 = df_MFR_exp_1.rename(columns={'time': 'MFR'})\n",
    "\n",
    "df_MFR_exp_1 = adapt_MFR_df(df_MFR_exp_1)\n",
    "df_MFR_exp_1"
   ]
  },
  {
   "cell_type": "code",
   "execution_count": null,
   "metadata": {},
   "outputs": [],
   "source": [
    "df_MFR_ctrl_exp_1 = pd.concat([df_MFR_ctrl_1, df_MFR_exp_1])\n",
    "\n",
    "fig, ax = plt.subplots(1,1, figsize=(28,6))\n",
    "sns.boxplot(data=df_MFR_ctrl_exp_1, x='time_exp', y='MFR', hue = 'condition', ax=ax)\n",
    "plt.show()\n"
   ]
  },
  {
   "cell_type": "code",
   "execution_count": null,
   "metadata": {},
   "outputs": [],
   "source": [
    "for tto in ['H PLKO', 'H 219', 'LIPOS -', 'LIPOS 219']:\n",
    "    fig, ax = plt.subplots(1,1, figsize=(28,6))\n",
    "    sns.boxplot(data=df_MFR_exp_1, x='time_exp', y='MFR', ax=ax)\n",
    "    ax.set_title(tto + ' MERGED REPLICATES')\n",
    "    plt.show()\n",
    "\n",
    "    fig, ax = plt.subplots(1,1, figsize=(28,6))\n",
    "    sns.boxplot(data=df_MFR_exp_1, x='time_exp', y='MFR', ax=ax, hue='replicate')\n",
    "    ax.set_title(tto + ' INDIVIDUAL REPLICATES')\n",
    "    plt.show()"
   ]
  },
  {
   "cell_type": "markdown",
   "metadata": {},
   "source": [
    "### EXPERIMENT 2"
   ]
  },
  {
   "cell_type": "code",
   "execution_count": null,
   "metadata": {},
   "outputs": [],
   "source": [
    "df_MFR_ctrl_2 = df_peaks_ctrl_2.groupby(['condition', 'time_exp', 'well', 'replicate', 'electrode']).count()['time'] / (df_peaks_ctrl_2['time'].max() - df_peaks_ctrl_2['time'].min())\n",
    "df_MFR_ctrl_2 = df_MFR_ctrl_2.reset_index().sort_values(by=['condition', 'time_exp','well', 'electrode'])\n",
    "df_MFR_ctrl_2 = df_MFR_ctrl_2.rename(columns={'time': 'MFR'})\n",
    "\n",
    "df_MFR_ctrl_2 = adapt_MFR_df(df_MFR_ctrl_2)\n",
    "df_MFR_ctrl_2\n",
    "\n",
    "fig, ax = plt.subplots(1,1, figsize=(28,6))\n",
    "sns.boxplot(data=df_MFR_ctrl_2, x='time_exp', y='MFR', hue = 'replicate', ax=ax)"
   ]
  },
  {
   "cell_type": "code",
   "execution_count": null,
   "metadata": {},
   "outputs": [],
   "source": [
    "df_MFR_exp_2 = df_peaks_exp_2.groupby(['condition', 'time_exp', 'well', 'replicate', 'electrode']).count()['time'] / (df_peaks_exp_2['time'].max() - df_peaks_exp_2['time'].min())\n",
    "df_MFR_exp_2 = df_MFR_exp_2.reset_index().sort_values(by=['condition', 'time_exp','well', 'electrode'])\n",
    "df_MFR_exp_2 = df_MFR_exp_2.rename(columns={'time': 'MFR'})\n",
    "\n",
    "df_MFR_exp_2 = adapt_MFR_df(df_MFR_exp_2)\n",
    "df_MFR_exp_2"
   ]
  },
  {
   "cell_type": "code",
   "execution_count": null,
   "metadata": {},
   "outputs": [],
   "source": [
    "df_MFR_ctrl_exp_2 = pd.concat([df_MFR_ctrl_2, df_MFR_exp_2])\n",
    "\n",
    "fig, ax = plt.subplots(1,1, figsize=(28,6))\n",
    "sns.boxplot(data=df_MFR_ctrl_exp_2, x='time_exp', y='MFR', hue = 'condition', ax=ax)\n",
    "plt.show()"
   ]
  },
  {
   "cell_type": "code",
   "execution_count": null,
   "metadata": {},
   "outputs": [],
   "source": [
    "fig, ax = plt.subplots(1,1, figsize=(28,6))\n",
    "sns.boxplot(data=df_MFR_ctrl_2, x='time_exp', y='MFR', hue = 'replicate', ax=ax)\n",
    "plt.show()"
   ]
  },
  {
   "cell_type": "code",
   "execution_count": null,
   "metadata": {},
   "outputs": [],
   "source": [
    "df_MFR_2 = df_peaks_exp_2.groupby(['condition', 'time_exp', 'well', 'replicate', 'electrode']).count()['time'] / (df_peaks_exp_2['time'].max() - df_peaks_exp_2['time'].min())\n",
    "df_MFR_2 = df_MFR_2.reset_index().sort_values(by=['well', 'electrode'])\n",
    "df_MFR_2 = df_MFR_2.rename(columns={'time': 'MFR'})\n",
    "\n",
    "df_MFR_2 = adapt_MFR_df(df_MFR_2)\n",
    "df_MFR_2"
   ]
  },
  {
   "cell_type": "code",
   "execution_count": null,
   "metadata": {},
   "outputs": [],
   "source": [
    "for tto in ['GLIO PLKO', 'GLIO 219', 'LIPOS -', 'ASTRO 219']:\n",
    "    df_MFR_2_sub = df_MFR_2[df_MFR_2['condition'].isin(['BASAL', tto])]\n",
    "    df_MFR_2_sub.loc[df_MFR_2_sub['condition'] == 'BASAL', 'time_exp'] = 'B'\n",
    "\n",
    "    print(tto)\n",
    "    fig, ax = plt.subplots(1,1, figsize=(28,6))\n",
    "    sns.boxplot(data=df_MFR_2_sub, x='time_exp', y='MFR', ax=ax)\n",
    "    ax.set_title(tto + ' MERGED REPLICATES')\n",
    "    plt.show()\n",
    "\n",
    "    fig, ax = plt.subplots(1,1, figsize=(28,6))\n",
    "    sns.boxplot(data=df_MFR_2_sub, x='time_exp', y='MFR', ax=ax, hue='replicate')\n",
    "    ax.set_title(tto + ' INDIVIDUAL REPLICATES')\n",
    "    plt.show()"
   ]
  },
  {
   "cell_type": "markdown",
   "metadata": {},
   "source": [
    "## Relative change in MFR (with Baseline normalisation)"
   ]
  },
  {
   "cell_type": "code",
   "execution_count": null,
   "metadata": {},
   "outputs": [],
   "source": [
    "def normalize_MFR(df, condition):\n",
    "    df_sub = df[df['condition'] == condition]\n",
    "    base_df = df_sub[df_sub['time_exp'] == 'Base']\n",
    "    rest_df = df_sub[df_sub['time_exp'] != 'Base']\n",
    "\n",
    "    norm_df = rest_df.copy()\n",
    "    norm_df = norm_df.rename(columns={'MFR': 'MFR_norm'})\n",
    "\n",
    "    list_wells_electrodes = base_df[['well', 'electrode']].values\n",
    "\n",
    "    for well, electrode in zip(list_wells_electrodes.T[0],list_wells_electrodes.T[1]):\n",
    "        MFR_top = rest_df.loc[(rest_df['well'] == well) & (rest_df['electrode'] == electrode), 'MFR'].values\n",
    "        MFR_base = base_df.loc[(base_df['well'] == well) & (base_df['electrode'] == electrode), 'MFR'].values\n",
    "\n",
    "        MFR_norm = (MFR_top / MFR_base)**0.5  # This helps reduce some noise in the data\n",
    "\n",
    "        norm_df.loc[(norm_df['well'] == well) & (norm_df['electrode'] == electrode), 'MFR_norm'] = MFR_norm\n",
    "\n",
    "    return norm_df"
   ]
  },
  {
   "cell_type": "markdown",
   "metadata": {},
   "source": [
    "### EXPERIMENT 1"
   ]
  },
  {
   "cell_type": "code",
   "execution_count": null,
   "metadata": {},
   "outputs": [],
   "source": [
    "df_MFR_ctrl_1_norm = normalize_MFR(df_MFR_ctrl_1, condition='CONTROL')\n",
    "\n",
    "fig, ax = plt.subplots(1,1, figsize=(28,6))\n",
    "sns.boxplot(data=df_MFR_ctrl_1_norm, x='time_exp', y='MFR_norm', hue = 'replicate', ax=ax)\n",
    "ax.set_ylim([0, 2.5])"
   ]
  },
  {
   "cell_type": "code",
   "execution_count": null,
   "metadata": {},
   "outputs": [],
   "source": [
    "df_MFR_exp_1_norm_list = [normalize_MFR(df_MFR_exp_1, condition=condition) for condition in df_MFR_exp_1['condition'].drop_duplicates().values]\n",
    "df_MFR_exp_1_norm = pd.concat(df_MFR_exp_1_norm_list)\n",
    "\n",
    "df_MFR_ctrl_exp_1_norm = pd.concat([df_MFR_ctrl_1_norm, df_MFR_exp_1_norm])\n",
    "\n",
    "\n",
    "fig, ax = plt.subplots(1,1, figsize=(28,6))\n",
    "sns.boxplot(data=df_MFR_ctrl_exp_1_norm, x='time_exp', y='MFR_norm', hue = 'condition', ax=ax)\n",
    "ax.set_ylim([0, 3])\n",
    "plt.show()\n"
   ]
  },
  {
   "cell_type": "code",
   "execution_count": null,
   "metadata": {},
   "outputs": [],
   "source": [
    "for tto in df_MFR_ctrl_exp_1_norm['condition'].drop_duplicates().values:\n",
    "    fig, ax = plt.subplots(1,1, figsize=(28,6))\n",
    "    sns.boxplot(data=df_MFR_ctrl_exp_1_norm, x='time_exp', y='MFR_norm', ax=ax)\n",
    "    ax.set_title(tto + ' MERGED REPLICATES')\n",
    "    ax.set_ylim([0, 3])\n",
    "    plt.show()\n",
    "\n",
    "    fig, ax = plt.subplots(1,1, figsize=(28,6))\n",
    "    sns.boxplot(data=df_MFR_ctrl_exp_1_norm, x='time_exp', y='MFR_norm', ax=ax, hue='replicate')\n",
    "    ax.set_title(tto + ' INDIVIDUAL REPLICATES')\n",
    "    ax.set_ylim([0, 3])\n",
    "    plt.show()"
   ]
  },
  {
   "cell_type": "markdown",
   "metadata": {},
   "source": [
    "### EXPERIMENT 2"
   ]
  },
  {
   "cell_type": "code",
   "execution_count": null,
   "metadata": {},
   "outputs": [],
   "source": [
    "df_MFR_ctrl_2_norm = normalize_MFR(df_MFR_ctrl_2, condition='CONTROL')\n",
    "\n",
    "fig, ax = plt.subplots(1,1, figsize=(28,6))\n",
    "sns.boxplot(data=df_MFR_ctrl_2_norm, x='time_exp', y='MFR_norm', hue = 'replicate', ax=ax)\n",
    "ax.set_ylim([0, 2])"
   ]
  },
  {
   "cell_type": "code",
   "execution_count": null,
   "metadata": {},
   "outputs": [],
   "source": [
    "df_MFR_exp_2_norm_list = [normalize_MFR(df_MFR_exp_2, condition=condition) for condition in df_MFR_exp_2['condition'].drop_duplicates().values]\n",
    "df_MFR_exp_2_norm = pd.concat(df_MFR_exp_2_norm_list)\n",
    "\n",
    "df_MFR_ctrl_exp_2_norm = pd.concat([df_MFR_ctrl_2_norm, df_MFR_exp_2_norm])\n",
    "\n",
    "\n",
    "fig, ax = plt.subplots(1,1, figsize=(28,6))\n",
    "sns.boxplot(data=df_MFR_ctrl_exp_2_norm, x='time_exp', y='MFR_norm', hue = 'condition', ax=ax)\n",
    "ax.set_ylim([0, 3])\n",
    "plt.show()"
   ]
  },
  {
   "cell_type": "code",
   "execution_count": null,
   "metadata": {},
   "outputs": [],
   "source": [
    "for tto in df_MFR_ctrl_exp_2_norm['condition'].drop_duplicates().values:\n",
    "    fig, ax = plt.subplots(1,1, figsize=(28,6))\n",
    "    sns.boxplot(data=df_MFR_ctrl_exp_2_norm, x='time_exp', y='MFR_norm', ax=ax)\n",
    "    ax.set_title(tto + ' MERGED REPLICATES')\n",
    "    plt.show()\n",
    "\n",
    "    fig, ax = plt.subplots(1,1, figsize=(28,6))\n",
    "    sns.boxplot(data=df_MFR_ctrl_exp_2_norm, x='time_exp', y='MFR_norm', ax=ax, hue='replicate')\n",
    "    ax.set_title(tto + ' INDIVIDUAL REPLICATES')\n",
    "    plt.show()"
   ]
  },
  {
   "cell_type": "markdown",
   "metadata": {},
   "source": [
    "## Plotting Exp1 and Exp2 together"
   ]
  },
  {
   "cell_type": "code",
   "execution_count": null,
   "metadata": {},
   "outputs": [],
   "source": [
    "df_MFR_ctrl_exp_12_norm = pd.concat([df_MFR_ctrl_exp_1_norm, df_MFR_ctrl_exp_2_norm])\n",
    "df_MFR_ctrl_exp_12_norm['experiment'] = ['1'] * len(df_MFR_ctrl_exp_1_norm) + ['2'] * len(df_MFR_ctrl_exp_2_norm)\n",
    "\n",
    "df_MFR_ctrl_exp_12_norm['condition_experiment'] = df_MFR_ctrl_exp_12_norm['condition'] + ' ' + df_MFR_ctrl_exp_12_norm['experiment']"
   ]
  },
  {
   "cell_type": "code",
   "execution_count": null,
   "metadata": {},
   "outputs": [],
   "source": [
    "fig, ax = plt.subplots(1,1, figsize=(35,6))\n",
    "sns.boxplot(data=df_MFR_ctrl_exp_12_norm, x='time_exp', y='MFR_norm', hue = 'condition_experiment', ax=ax)\n",
    "ax.set_ylim([0, 3])\n",
    "plt.show()"
   ]
  },
  {
   "cell_type": "markdown",
   "metadata": {},
   "source": [
    "**Conclusions derived from the exp 1+2 analysis with baseline normalization**\n",
    "\n",
    "- Exp 1 and Exp 2 are not directly comparable, although both suffer (in exp 1 is more pronounced) a decline in signal at the beginning, which tends to neutralize towards the end, and keeps at the same rate at 24h (approx).\n",
    "- Respective to their experiments, lipos are the condition that most decrease the MFR.\n",
    "- In Exp 1, lipos 219 shows higher decrease than lipos, but H 219 is increased compared to H PLKO.\n",
    "- In Exp 2, GLIO PLKO and 219 show a similar effect."
   ]
  }
 ],
 "metadata": {
  "kernelspec": {
   "display_name": "nanoneuro",
   "language": "python",
   "name": "python3"
  },
  "language_info": {
   "codemirror_mode": {
    "name": "ipython",
    "version": 3
   },
   "file_extension": ".py",
   "mimetype": "text/x-python",
   "name": "python",
   "nbconvert_exporter": "python",
   "pygments_lexer": "ipython3",
   "version": "3.10.14"
  }
 },
 "nbformat": 4,
 "nbformat_minor": 2
}
